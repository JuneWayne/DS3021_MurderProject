{
 "cells": [
  {
   "cell_type": "code",
   "execution_count": 2,
   "metadata": {
    "id": "Tc1C8EJuvaCt"
   },
   "outputs": [],
   "source": [
    "import pandas as pd\n",
    "import numpy as np\n",
    "import matplotlib.pyplot as plt\n",
    "import seaborn as sns"
   ]
  },
  {
   "cell_type": "code",
   "execution_count": 3,
   "metadata": {
    "id": "MueQb-siw-KO"
   },
   "outputs": [
    {
     "data": {
      "text/html": [
       "<div>\n",
       "<style scoped>\n",
       "    .dataframe tbody tr th:only-of-type {\n",
       "        vertical-align: middle;\n",
       "    }\n",
       "\n",
       "    .dataframe tbody tr th {\n",
       "        vertical-align: top;\n",
       "    }\n",
       "\n",
       "    .dataframe thead th {\n",
       "        text-align: right;\n",
       "    }\n",
       "</style>\n",
       "<table border=\"1\" class=\"dataframe\">\n",
       "  <thead>\n",
       "    <tr style=\"text-align: right;\">\n",
       "      <th></th>\n",
       "      <th>ID</th>\n",
       "      <th>CNTYFIPS</th>\n",
       "      <th>Ori</th>\n",
       "      <th>State</th>\n",
       "      <th>Agency</th>\n",
       "      <th>Agentype</th>\n",
       "      <th>Source</th>\n",
       "      <th>Solved</th>\n",
       "      <th>Year</th>\n",
       "      <th>Month</th>\n",
       "      <th>...</th>\n",
       "      <th>OffRace</th>\n",
       "      <th>OffEthnic</th>\n",
       "      <th>Weapon</th>\n",
       "      <th>Relationship</th>\n",
       "      <th>Circumstance</th>\n",
       "      <th>Subcircum</th>\n",
       "      <th>VicCount</th>\n",
       "      <th>OffCount</th>\n",
       "      <th>FileDate</th>\n",
       "      <th>MSA</th>\n",
       "    </tr>\n",
       "  </thead>\n",
       "  <tbody>\n",
       "    <tr>\n",
       "      <th>0</th>\n",
       "      <td>197603001AK00101</td>\n",
       "      <td>Anchorage, AK</td>\n",
       "      <td>AK00101</td>\n",
       "      <td>Alaska</td>\n",
       "      <td>Anchorage</td>\n",
       "      <td>Municipal police</td>\n",
       "      <td>FBI</td>\n",
       "      <td>Yes</td>\n",
       "      <td>1976</td>\n",
       "      <td>March</td>\n",
       "      <td>...</td>\n",
       "      <td>Black</td>\n",
       "      <td>Unknown or not reported</td>\n",
       "      <td>Handgun - pistol, revolver, etc</td>\n",
       "      <td>Relationship not determined</td>\n",
       "      <td>Other arguments</td>\n",
       "      <td>NaN</td>\n",
       "      <td>0</td>\n",
       "      <td>0</td>\n",
       "      <td>30180.0</td>\n",
       "      <td>Anchorage, AK</td>\n",
       "    </tr>\n",
       "    <tr>\n",
       "      <th>1</th>\n",
       "      <td>197604001AK00101</td>\n",
       "      <td>Anchorage, AK</td>\n",
       "      <td>AK00101</td>\n",
       "      <td>Alaska</td>\n",
       "      <td>Anchorage</td>\n",
       "      <td>Municipal police</td>\n",
       "      <td>FBI</td>\n",
       "      <td>Yes</td>\n",
       "      <td>1976</td>\n",
       "      <td>April</td>\n",
       "      <td>...</td>\n",
       "      <td>White</td>\n",
       "      <td>Unknown or not reported</td>\n",
       "      <td>Handgun - pistol, revolver, etc</td>\n",
       "      <td>Girlfriend</td>\n",
       "      <td>Other arguments</td>\n",
       "      <td>NaN</td>\n",
       "      <td>0</td>\n",
       "      <td>0</td>\n",
       "      <td>30180.0</td>\n",
       "      <td>Anchorage, AK</td>\n",
       "    </tr>\n",
       "    <tr>\n",
       "      <th>2</th>\n",
       "      <td>197606001AK00101</td>\n",
       "      <td>Anchorage, AK</td>\n",
       "      <td>AK00101</td>\n",
       "      <td>Alaska</td>\n",
       "      <td>Anchorage</td>\n",
       "      <td>Municipal police</td>\n",
       "      <td>FBI</td>\n",
       "      <td>Yes</td>\n",
       "      <td>1976</td>\n",
       "      <td>June</td>\n",
       "      <td>...</td>\n",
       "      <td>Black</td>\n",
       "      <td>Unknown or not reported</td>\n",
       "      <td>Handgun - pistol, revolver, etc</td>\n",
       "      <td>Stranger</td>\n",
       "      <td>Other</td>\n",
       "      <td>NaN</td>\n",
       "      <td>0</td>\n",
       "      <td>0</td>\n",
       "      <td>30180.0</td>\n",
       "      <td>Anchorage, AK</td>\n",
       "    </tr>\n",
       "    <tr>\n",
       "      <th>3</th>\n",
       "      <td>197606002AK00101</td>\n",
       "      <td>Anchorage, AK</td>\n",
       "      <td>AK00101</td>\n",
       "      <td>Alaska</td>\n",
       "      <td>Anchorage</td>\n",
       "      <td>Municipal police</td>\n",
       "      <td>FBI</td>\n",
       "      <td>Yes</td>\n",
       "      <td>1976</td>\n",
       "      <td>June</td>\n",
       "      <td>...</td>\n",
       "      <td>White</td>\n",
       "      <td>Unknown or not reported</td>\n",
       "      <td>Handgun - pistol, revolver, etc</td>\n",
       "      <td>Other - known to victim</td>\n",
       "      <td>Other arguments</td>\n",
       "      <td>NaN</td>\n",
       "      <td>0</td>\n",
       "      <td>0</td>\n",
       "      <td>30180.0</td>\n",
       "      <td>Anchorage, AK</td>\n",
       "    </tr>\n",
       "    <tr>\n",
       "      <th>4</th>\n",
       "      <td>197607001AK00101</td>\n",
       "      <td>Anchorage, AK</td>\n",
       "      <td>AK00101</td>\n",
       "      <td>Alaska</td>\n",
       "      <td>Anchorage</td>\n",
       "      <td>Municipal police</td>\n",
       "      <td>FBI</td>\n",
       "      <td>Yes</td>\n",
       "      <td>1976</td>\n",
       "      <td>July</td>\n",
       "      <td>...</td>\n",
       "      <td>American Indian or Alaskan Native</td>\n",
       "      <td>Unknown or not reported</td>\n",
       "      <td>Knife or cutting instrument</td>\n",
       "      <td>Brother</td>\n",
       "      <td>Other arguments</td>\n",
       "      <td>NaN</td>\n",
       "      <td>0</td>\n",
       "      <td>0</td>\n",
       "      <td>30180.0</td>\n",
       "      <td>Anchorage, AK</td>\n",
       "    </tr>\n",
       "  </tbody>\n",
       "</table>\n",
       "<p>5 rows × 30 columns</p>\n",
       "</div>"
      ],
      "text/plain": [
       "                 ID       CNTYFIPS      Ori   State     Agency  \\\n",
       "0  197603001AK00101  Anchorage, AK  AK00101  Alaska  Anchorage   \n",
       "1  197604001AK00101  Anchorage, AK  AK00101  Alaska  Anchorage   \n",
       "2  197606001AK00101  Anchorage, AK  AK00101  Alaska  Anchorage   \n",
       "3  197606002AK00101  Anchorage, AK  AK00101  Alaska  Anchorage   \n",
       "4  197607001AK00101  Anchorage, AK  AK00101  Alaska  Anchorage   \n",
       "\n",
       "           Agentype Source Solved  Year  Month  ...  \\\n",
       "0  Municipal police    FBI    Yes  1976  March  ...   \n",
       "1  Municipal police    FBI    Yes  1976  April  ...   \n",
       "2  Municipal police    FBI    Yes  1976   June  ...   \n",
       "3  Municipal police    FBI    Yes  1976   June  ...   \n",
       "4  Municipal police    FBI    Yes  1976   July  ...   \n",
       "\n",
       "                             OffRace                OffEthnic  \\\n",
       "0                              Black  Unknown or not reported   \n",
       "1                              White  Unknown or not reported   \n",
       "2                              Black  Unknown or not reported   \n",
       "3                              White  Unknown or not reported   \n",
       "4  American Indian or Alaskan Native  Unknown or not reported   \n",
       "\n",
       "                            Weapon                 Relationship  \\\n",
       "0  Handgun - pistol, revolver, etc  Relationship not determined   \n",
       "1  Handgun - pistol, revolver, etc                   Girlfriend   \n",
       "2  Handgun - pistol, revolver, etc                     Stranger   \n",
       "3  Handgun - pistol, revolver, etc      Other - known to victim   \n",
       "4      Knife or cutting instrument                      Brother   \n",
       "\n",
       "      Circumstance Subcircum VicCount OffCount  FileDate            MSA  \n",
       "0  Other arguments       NaN        0        0   30180.0  Anchorage, AK  \n",
       "1  Other arguments       NaN        0        0   30180.0  Anchorage, AK  \n",
       "2            Other       NaN        0        0   30180.0  Anchorage, AK  \n",
       "3  Other arguments       NaN        0        0   30180.0  Anchorage, AK  \n",
       "4  Other arguments       NaN        0        0   30180.0  Anchorage, AK  \n",
       "\n",
       "[5 rows x 30 columns]"
      ]
     },
     "execution_count": 3,
     "metadata": {},
     "output_type": "execute_result"
    }
   ],
   "source": [
    "df= pd.read_csv('SHR65_23.csv')\n",
    "df.head()"
   ]
  },
  {
   "cell_type": "code",
   "execution_count": 4,
   "metadata": {
    "id": "dEqRIdU8_Jr-"
   },
   "outputs": [
    {
     "data": {
      "text/plain": [
       "State\n",
       "California              129741\n",
       "Texas                    86288\n",
       "New York                 62695\n",
       "Florida                  50854\n",
       "Illinois                 39227\n",
       "Michigan                 38641\n",
       "Pennsylvania             34307\n",
       "Georgia                  29698\n",
       "North Carolina           29460\n",
       "Ohio                     28230\n",
       "Louisiana                27411\n",
       "Maryland                 23742\n",
       "Missouri                 22456\n",
       "Virginia                 22454\n",
       "Tennessee                22310\n",
       "New Jersey               18750\n",
       "Alabama                  18169\n",
       "Arizona                  18068\n",
       "South Carolina           17677\n",
       "Indiana                  16723\n",
       "Oklahoma                 12518\n",
       "Washington               11263\n",
       "Kentucky                 10877\n",
       "Arkansas                 10223\n",
       "Colorado                 10134\n",
       "District of Columbia      9833\n",
       "Wisconsin                 9673\n",
       "Mississippi               8946\n",
       "Massachusetts             8180\n",
       "Nevada                    8068\n",
       "Connecticut               6542\n",
       "New Mexico                6310\n",
       "Oregon                    6208\n",
       "Minnesota                 6036\n",
       "Kansas                    4766\n",
       "West Virginia             4402\n",
       "Utah                      2982\n",
       "Iowa                      2775\n",
       "Alaska                    2426\n",
       "Nebraska                  2003\n",
       "Hawaii                    1904\n",
       "Delaware                  1890\n",
       "Idaho                     1768\n",
       "Rhodes Island             1580\n",
       "Maine                     1323\n",
       "Montana                   1132\n",
       "New Hampshire              989\n",
       "Wyoming                    931\n",
       "South Dakota               839\n",
       "North Dakota               611\n",
       "Vermont                    603\n",
       "Name: count, dtype: int64"
      ]
     },
     "execution_count": 4,
     "metadata": {},
     "output_type": "execute_result"
    }
   ],
   "source": [
    "df['State'].value_counts()"
   ]
  },
  {
   "cell_type": "code",
   "execution_count": 5,
   "metadata": {
    "id": "xYksubG-15-_"
   },
   "outputs": [
    {
     "name": "stdout",
     "output_type": "stream",
     "text": [
      "<class 'pandas.core.frame.DataFrame'>\n",
      "RangeIndex: 894636 entries, 0 to 894635\n",
      "Data columns (total 30 columns):\n",
      " #   Column        Non-Null Count   Dtype  \n",
      "---  ------        --------------   -----  \n",
      " 0   ID            894636 non-null  object \n",
      " 1   CNTYFIPS      894636 non-null  object \n",
      " 2   Ori           894636 non-null  object \n",
      " 3   State         894636 non-null  object \n",
      " 4   Agency        894636 non-null  object \n",
      " 5   Agentype      894636 non-null  object \n",
      " 6   Source        894636 non-null  object \n",
      " 7   Solved        894636 non-null  object \n",
      " 8   Year          894636 non-null  int64  \n",
      " 9   Month         894636 non-null  object \n",
      " 10  Incident      894636 non-null  int64  \n",
      " 11  ActionType    894636 non-null  object \n",
      " 12  Homicide      894636 non-null  object \n",
      " 13  Situation     894636 non-null  object \n",
      " 14  VicAge        894636 non-null  int64  \n",
      " 15  VicSex        894636 non-null  object \n",
      " 16  VicRace       894636 non-null  object \n",
      " 17  VicEthnic     894636 non-null  object \n",
      " 18  OffAge        894636 non-null  int64  \n",
      " 19  OffSex        894636 non-null  object \n",
      " 20  OffRace       894636 non-null  object \n",
      " 21  OffEthnic     894636 non-null  object \n",
      " 22  Weapon        894636 non-null  object \n",
      " 23  Relationship  894636 non-null  object \n",
      " 24  Circumstance  894636 non-null  object \n",
      " 25  Subcircum     34750 non-null   object \n",
      " 26  VicCount      894636 non-null  int64  \n",
      " 27  OffCount      894636 non-null  int64  \n",
      " 28  FileDate      877561 non-null  float64\n",
      " 29  MSA           894636 non-null  object \n",
      "dtypes: float64(1), int64(6), object(23)\n",
      "memory usage: 204.8+ MB\n",
      "None\n",
      "                Year       Incident         VicAge         OffAge  \\\n",
      "count  894636.000000  894636.000000  894636.000000  894636.000000   \n",
      "mean     1998.868617      53.117632      47.313424     351.740167   \n",
      "std        14.134767     790.036562     117.434844     455.602403   \n",
      "min      1976.000000       0.000000       0.000000       0.000000   \n",
      "25%      1987.000000       1.000000      22.000000      24.000000   \n",
      "50%      1997.000000       2.000000      30.000000      38.000000   \n",
      "75%      2011.000000      11.000000      42.000000     999.000000   \n",
      "max      2023.000000   27113.000000     999.000000     999.000000   \n",
      "\n",
      "            VicCount       OffCount       FileDate  \n",
      "count  894636.000000  894636.000000  877561.000000  \n",
      "mean        0.134561       0.194908   54137.984079  \n",
      "std         0.605561       0.617827   32779.720549  \n",
      "min         0.000000       0.000000    1121.000000  \n",
      "25%         0.000000       0.000000   30180.000000  \n",
      "50%         0.000000       0.000000   41317.000000  \n",
      "75%         0.000000       0.000000   82207.000000  \n",
      "max        52.000000      40.000000  123197.000000  \n",
      "(894636, 30)\n"
     ]
    }
   ],
   "source": [
    "print(df.info())\n",
    "print(df.describe())\n",
    "print(df.shape)"
   ]
  },
  {
   "cell_type": "code",
   "execution_count": 6,
   "metadata": {
    "id": "GAH3ZsXk1_Bo"
   },
   "outputs": [
    {
     "data": {
      "text/plain": [
       "ID                   0\n",
       "CNTYFIPS             0\n",
       "Ori                  0\n",
       "State                0\n",
       "Agency               0\n",
       "Agentype             0\n",
       "Source               0\n",
       "Solved               0\n",
       "Year                 0\n",
       "Month                0\n",
       "Incident             0\n",
       "ActionType           0\n",
       "Homicide             0\n",
       "Situation            0\n",
       "VicAge               0\n",
       "VicSex               0\n",
       "VicRace              0\n",
       "VicEthnic            0\n",
       "OffAge               0\n",
       "OffSex               0\n",
       "OffRace              0\n",
       "OffEthnic            0\n",
       "Weapon               0\n",
       "Relationship         0\n",
       "Circumstance         0\n",
       "Subcircum       859886\n",
       "VicCount             0\n",
       "OffCount             0\n",
       "FileDate         17075\n",
       "MSA                  0\n",
       "dtype: int64"
      ]
     },
     "execution_count": 6,
     "metadata": {},
     "output_type": "execute_result"
    }
   ],
   "source": [
    "df.isnull().sum()"
   ]
  },
  {
   "cell_type": "code",
   "execution_count": 7,
   "metadata": {
    "id": "QHB3mLbkwNKu"
   },
   "outputs": [
    {
     "data": {
      "text/plain": [
       "ID              0\n",
       "CNTYFIPS        0\n",
       "Ori             0\n",
       "State           0\n",
       "Agency          0\n",
       "Agentype        0\n",
       "Source          0\n",
       "Solved          0\n",
       "Year            0\n",
       "Month           0\n",
       "Incident        0\n",
       "ActionType      0\n",
       "Homicide        0\n",
       "Situation       0\n",
       "VicAge          0\n",
       "VicSex          0\n",
       "VicRace         0\n",
       "VicEthnic       0\n",
       "OffAge          0\n",
       "OffSex          0\n",
       "OffRace         0\n",
       "OffEthnic       0\n",
       "Weapon          0\n",
       "Relationship    0\n",
       "Circumstance    0\n",
       "VicCount        0\n",
       "OffCount        0\n",
       "MSA             0\n",
       "dtype: int64"
      ]
     },
     "execution_count": 7,
     "metadata": {},
     "output_type": "execute_result"
    }
   ],
   "source": [
    "df_new= df.drop(['Subcircum', 'FileDate'], axis='columns')\n",
    "df_new.isnull().sum()"
   ]
  },
  {
   "cell_type": "code",
   "execution_count": 8,
   "metadata": {
    "id": "PagsBZymwuCK"
   },
   "outputs": [
    {
     "data": {
      "text/plain": [
       "ID              0\n",
       "CNTYFIPS        0\n",
       "Ori             0\n",
       "State           0\n",
       "Agency          0\n",
       "Agentype        0\n",
       "Source          0\n",
       "Solved          0\n",
       "Year            0\n",
       "Month           0\n",
       "Incident        0\n",
       "ActionType      0\n",
       "Homicide        0\n",
       "Situation       0\n",
       "VicAge          0\n",
       "VicSex          0\n",
       "VicRace         0\n",
       "VicEthnic       0\n",
       "OffAge          0\n",
       "OffSex          0\n",
       "OffRace         0\n",
       "OffEthnic       0\n",
       "Weapon          0\n",
       "Relationship    0\n",
       "Circumstance    0\n",
       "VicCount        0\n",
       "OffCount        0\n",
       "MSA             0\n",
       "dtype: int64"
      ]
     },
     "execution_count": 8,
     "metadata": {},
     "output_type": "execute_result"
    }
   ],
   "source": [
    "df_new.dropna(inplace=True)\n",
    "df_new.isnull().sum()"
   ]
  },
  {
   "cell_type": "code",
   "execution_count": 9,
   "metadata": {
    "id": "TqoU8vRiwxQq"
   },
   "outputs": [
    {
     "data": {
      "text/plain": [
       "(894636, 28)"
      ]
     },
     "execution_count": 9,
     "metadata": {},
     "output_type": "execute_result"
    }
   ],
   "source": [
    "df_new.shape"
   ]
  },
  {
   "cell_type": "code",
   "execution_count": 10,
   "metadata": {
    "id": "9biyI9Q1yvkh"
   },
   "outputs": [
    {
     "data": {
      "text/plain": [
       "Index(['ID', 'CNTYFIPS', 'Ori', 'State', 'Agency', 'Agentype', 'Source',\n",
       "       'Solved', 'Year', 'Month', 'Incident', 'ActionType', 'Homicide',\n",
       "       'Situation', 'VicAge', 'VicSex', 'VicRace', 'VicEthnic', 'OffAge',\n",
       "       'OffSex', 'OffRace', 'OffEthnic', 'Weapon', 'Relationship',\n",
       "       'Circumstance', 'Subcircum', 'VicCount', 'OffCount', 'FileDate', 'MSA'],\n",
       "      dtype='object')"
      ]
     },
     "execution_count": 10,
     "metadata": {},
     "output_type": "execute_result"
    }
   ],
   "source": [
    "df.columns"
   ]
  },
  {
   "cell_type": "code",
   "execution_count": 11,
   "metadata": {
    "id": "Jcc6JaVfluKT"
   },
   "outputs": [
    {
     "data": {
      "text/plain": [
       "VicCount\n",
       "0     816622\n",
       "1      56960\n",
       "2      12398\n",
       "3       4440\n",
       "4       1693\n",
       "5        782\n",
       "9        470\n",
       "6        442\n",
       "10       275\n",
       "7        264\n",
       "8        235\n",
       "11        22\n",
       "21        11\n",
       "20        11\n",
       "52        11\n",
       "Name: count, dtype: int64"
      ]
     },
     "execution_count": 11,
     "metadata": {},
     "output_type": "execute_result"
    }
   ],
   "source": [
    "df_new['VicCount'].value_counts()"
   ]
  },
  {
   "cell_type": "code",
   "execution_count": 12,
   "metadata": {
    "id": "MGe1MvPl1uxG"
   },
   "outputs": [
    {
     "data": {
      "text/plain": [
       "Homicide\n",
       "Murder and non-negligent manslaughter    874958\n",
       "Manslaughter by negligence                19678\n",
       "Name: count, dtype: int64"
      ]
     },
     "execution_count": 12,
     "metadata": {},
     "output_type": "execute_result"
    }
   ],
   "source": [
    "df_new['Homicide'].value_counts()"
   ]
  },
  {
   "cell_type": "code",
   "execution_count": 13,
   "metadata": {
    "id": "xMm4_1PB2AbY"
   },
   "outputs": [
    {
     "name": "stdout",
     "output_type": "stream",
     "text": [
      "<class 'pandas.core.frame.DataFrame'>\n",
      "RangeIndex: 894636 entries, 0 to 894635\n",
      "Data columns (total 28 columns):\n",
      " #   Column        Non-Null Count   Dtype \n",
      "---  ------        --------------   ----- \n",
      " 0   ID            894636 non-null  object\n",
      " 1   CNTYFIPS      894636 non-null  object\n",
      " 2   Ori           894636 non-null  object\n",
      " 3   State         894636 non-null  object\n",
      " 4   Agency        894636 non-null  object\n",
      " 5   Agentype      894636 non-null  object\n",
      " 6   Source        894636 non-null  object\n",
      " 7   Solved        894636 non-null  object\n",
      " 8   Year          894636 non-null  int64 \n",
      " 9   Month         894636 non-null  object\n",
      " 10  Incident      894636 non-null  int64 \n",
      " 11  ActionType    894636 non-null  object\n",
      " 12  Homicide      894636 non-null  object\n",
      " 13  Situation     894636 non-null  object\n",
      " 14  VicAge        894636 non-null  int64 \n",
      " 15  VicSex        894636 non-null  object\n",
      " 16  VicRace       894636 non-null  object\n",
      " 17  VicEthnic     894636 non-null  object\n",
      " 18  OffAge        894636 non-null  int64 \n",
      " 19  OffSex        894636 non-null  object\n",
      " 20  OffRace       894636 non-null  object\n",
      " 21  OffEthnic     894636 non-null  object\n",
      " 22  Weapon        894636 non-null  object\n",
      " 23  Relationship  894636 non-null  object\n",
      " 24  Circumstance  894636 non-null  object\n",
      " 25  VicCount      894636 non-null  int64 \n",
      " 26  OffCount      894636 non-null  int64 \n",
      " 27  MSA           894636 non-null  object\n",
      "dtypes: int64(6), object(22)\n",
      "memory usage: 191.1+ MB\n"
     ]
    }
   ],
   "source": [
    "df_new.info()"
   ]
  },
  {
   "cell_type": "code",
   "execution_count": 14,
   "metadata": {
    "id": "tMnpDv2h7sA1"
   },
   "outputs": [
    {
     "data": {
      "text/plain": [
       "MSA\n",
       "New York-New Jersey-Long Island, NY-NJ    65234\n",
       "Los Angeles-Long Beach, CA                60427\n",
       "Chicago-Naperville-Joliet, IL-IN-WI       38555\n",
       "Detroit-Warren-Livonia, MI                27572\n",
       "Houston-Sugar Land-Baytown, TX            26811\n",
       "                                          ...  \n",
       "Dubuque, IA                                  50\n",
       "Carson City, NV                              50\n",
       "Logan, UT-ID                                 49\n",
       "Ames, IA                                     38\n",
       "Rural Massachusetts                           9\n",
       "Name: count, Length: 409, dtype: int64"
      ]
     },
     "execution_count": 14,
     "metadata": {},
     "output_type": "execute_result"
    }
   ],
   "source": [
    "df['MSA'].value_counts()"
   ]
  },
  {
   "cell_type": "code",
   "execution_count": 15,
   "metadata": {
    "id": "mLMrgSeXw2F6"
   },
   "outputs": [
    {
     "data": {
      "text/plain": [
       "Weapon\n",
       "Handgun - pistol, revolver, etc         429715\n",
       "Knife or cutting instrument             124882\n",
       "Firearm, type not stated                 92766\n",
       "Other or type unknown                    51043\n",
       "Personal weapons, includes beating       49469\n",
       "Shotgun                                  39915\n",
       "Blunt object - hammer, club, etc         37262\n",
       "Rifle                                    32461\n",
       "Strangulation - hanging                  10157\n",
       "Fire                                      8207\n",
       "Asphyxiation - includes death by gas      5377\n",
       "Other gun                                 4456\n",
       "Narcotics or drugs, sleeping pills        3987\n",
       "Weapon Not Reported                       1881\n",
       "Drowning                                  1515\n",
       "Poison - does not include gas              645\n",
       "Explosives                                 636\n",
       "Pushed or thrown out window                262\n",
       "Name: count, dtype: int64"
      ]
     },
     "execution_count": 15,
     "metadata": {},
     "output_type": "execute_result"
    }
   ],
   "source": [
    "df['Weapon'].value_counts()"
   ]
  },
  {
   "cell_type": "code",
   "execution_count": 16,
   "metadata": {
    "id": "DzGdwrfRxeFS"
   },
   "outputs": [
    {
     "data": {
      "text/plain": [
       "<Axes: xlabel='count', ylabel='Weapon'>"
      ]
     },
     "execution_count": 16,
     "metadata": {},
     "output_type": "execute_result"
    },
    {
     "data": {
      "image/png": "[encoded data removed]",
      "text/plain": [
       "<Figure size 640x480 with 1 Axes>"
      ]
     },
     "metadata": {},
     "output_type": "display_data"
    }
   ],
   "source": [
    "sns.countplot(df_new['Weapon'])"
   ]
  },
  {
   "cell_type": "code",
   "execution_count": 17,
   "metadata": {
    "id": "6YvHxRJd0Obu"
   },
   "outputs": [
    {
     "data": {
      "text/plain": [
       "Situation\n",
       "Single victim/single offender           489422\n",
       "Single victim/unknown offender(s)       231623\n",
       "Single victim/multiple offenders         95370\n",
       "Multiple victims/single offender         44596\n",
       "Multiple victims/unknown offender(s)     19904\n",
       "Multiple victims/multiple offenders      13721\n",
       "Name: count, dtype: int64"
      ]
     },
     "execution_count": 17,
     "metadata": {},
     "output_type": "execute_result"
    }
   ],
   "source": [
    "df['Situation'].value_counts()"
   ]
  },
  {
   "cell_type": "code",
   "execution_count": 18,
   "metadata": {
    "id": "PD9P2uBz1S0L"
   },
   "outputs": [
    {
     "data": {
      "text/plain": [
       "VicCount\n",
       "0     816622\n",
       "1      56960\n",
       "2      12398\n",
       "3       4440\n",
       "4       1693\n",
       "5        782\n",
       "9        470\n",
       "6        442\n",
       "10       275\n",
       "7        264\n",
       "8        235\n",
       "11        22\n",
       "21        11\n",
       "20        11\n",
       "52        11\n",
       "Name: count, dtype: int64"
      ]
     },
     "execution_count": 18,
     "metadata": {},
     "output_type": "execute_result"
    }
   ],
   "source": [
    "df['VicCount'].value_counts()"
   ]
  },
  {
   "cell_type": "code",
   "execution_count": 19,
   "metadata": {
    "id": "s0JXIg877ip7"
   },
   "outputs": [
    {
     "data": {
      "text/plain": [
       "VicSex\n",
       "Male       693403\n",
       "Female     199567\n",
       "Unknown      1666\n",
       "Name: count, dtype: int64"
      ]
     },
     "execution_count": 19,
     "metadata": {},
     "output_type": "execute_result"
    }
   ],
   "source": [
    "df_new['VicSex'].value_counts()"
   ]
  },
  {
   "cell_type": "code",
   "execution_count": 20,
   "metadata": {
    "id": "I68_FkuwV3_f"
   },
   "outputs": [
    {
     "name": "stderr",
     "output_type": "stream",
     "text": [
      "C:\\Users\\jvini\\anaconda3\\Lib\\site-packages\\sklearn\\cluster\\_kmeans.py:1446: UserWarning: KMeans is known to have a memory leak on Windows with MKL, when there are less chunks than available threads. You can avoid it by setting the environment variable OMP_NUM_THREADS=1.\n",
      "  warnings.warn(\n"
     ]
    },
    {
     "name": "stdout",
     "output_type": "stream",
     "text": [
      "State\n",
      "Maine                   0\n",
      "West Virginia           0\n",
      "Montana                 0\n",
      "Idaho                   0\n",
      "Michigan                1\n",
      "Mississippi             1\n",
      "Nevada                  1\n",
      "New Jersey              1\n",
      "New Mexico              1\n",
      "New York                1\n",
      "Alabama                 1\n",
      "Ohio                    1\n",
      "Pennsylvania            1\n",
      "Rhodes Island           1\n",
      "South Carolina          1\n",
      "Tennessee               1\n",
      "Texas                   1\n",
      "Virginia                1\n",
      "Massachusetts           1\n",
      "North Carolina          1\n",
      "Missouri                1\n",
      "Louisiana               1\n",
      "Arkansas                1\n",
      "California              1\n",
      "Connecticut             1\n",
      "Delaware                1\n",
      "Maryland                1\n",
      "Florida                 1\n",
      "Georgia                 1\n",
      "Illinois                1\n",
      "District of Columbia    1\n",
      "Indiana                 1\n",
      "Kentucky                1\n",
      "Kansas                  1\n",
      "Arizona                 2\n",
      "Hawaii                  3\n",
      "Alaska                  3\n",
      "Washington              3\n",
      "Vermont                 3\n",
      "Utah                    3\n",
      "Minnesota               3\n",
      "Colorado                3\n",
      "New Hampshire           3\n",
      "Wisconsin               3\n",
      "Oregon                  3\n",
      "Oklahoma                3\n",
      "Iowa                    3\n",
      "North Dakota            3\n",
      "Nebraska                3\n",
      "South Dakota            3\n",
      "Wyoming                 3\n",
      "Name: Cluster, dtype: int32\n"
     ]
    },
    {
     "data": {
      "image/png": "[encoded data removed]",
      "text/plain": [
       "<Figure size 1200x800 with 1 Axes>"
      ]
     },
     "metadata": {},
     "output_type": "display_data"
    },
    {
     "name": "stdout",
     "output_type": "stream",
     "text": [
      "\n",
      "--- Cluster Counts (Number of States per Cluster) ---\n",
      "Cluster\n",
      "1    30\n",
      "3    16\n",
      "0     4\n",
      "2     1\n",
      "Name: count, dtype: int64\n",
      "\n",
      "--- Cluster Centers (Scaled Feature Space) ---\n",
      "   Circumstance_31  Circumstance_Abortion  \\\n",
      "0        -0.141421              -0.421678   \n",
      "1        -0.141421               0.186643   \n",
      "2         7.071068               2.834265   \n",
      "3        -0.141421              -0.421678   \n",
      "\n",
      "   Circumstance_All other manslaughter by negligence  \\\n",
      "0                                           0.243291   \n",
      "1                                          -0.594157   \n",
      "2                                          -0.133506   \n",
      "3                                           1.061565   \n",
      "\n",
      "   Circumstance_All suspected felony type  \\\n",
      "0                                0.145091   \n",
      "1                               -0.069413   \n",
      "2                                0.494914   \n",
      "3                                0.062944   \n",
      "\n",
      "   Circumstance_Argument over money or property  Circumstance_Arson  \\\n",
      "0                                     -0.308380            0.194664   \n",
      "1                                     -0.000712           -0.228718   \n",
      "2                                      1.718538           -1.350197   \n",
      "3                                     -0.028979            0.464567   \n",
      "\n",
      "   Circumstance_Brawl due to influence of alcohol  \\\n",
      "0                                        0.947405   \n",
      "1                                       -0.434541   \n",
      "2                                        0.710785   \n",
      "3                                        0.533488   \n",
      "\n",
      "   Circumstance_Brawl due to influence of narcotics  Circumstance_Burglary  \\\n",
      "0                                          0.082642               0.560315   \n",
      "1                                         -0.164763              -0.174643   \n",
      "2                                         -0.148444               0.058204   \n",
      "3                                          0.297548               0.183739   \n",
      "\n",
      "   Circumstance_Child killed by babysitter  ...  Relationship_Stepmother  \\\n",
      "0                                 0.157442  ...                -0.916341   \n",
      "1                                -0.421967  ...                -0.079441   \n",
      "2                                 0.426336  ...                -0.924379   \n",
      "3                                 0.725181  ...                 0.435810   \n",
      "\n",
      "   Relationship_Stepson  Relationship_Stranger  Relationship_Wife  \\\n",
      "0              1.803941              -0.456434           1.433701   \n",
      "1             -0.363970              -0.243607          -0.596139   \n",
      "2             -0.327989               2.786306          -0.453185   \n",
      "3              0.251958               0.396727           0.787660   \n",
      "\n",
      "   Situation_Multiple victims/single offender  \\\n",
      "0                                    1.767867   \n",
      "1                                   -0.620973   \n",
      "2                                   -0.372540   \n",
      "3                                    0.745642   \n",
      "\n",
      "   Situation_Multiple victims/unknown offender(s)  \\\n",
      "0                                       -1.045018   \n",
      "1                                        0.295941   \n",
      "2                                        1.405547   \n",
      "3                                       -0.381481   \n",
      "\n",
      "   Situation_Single victim/multiple offenders  \\\n",
      "0                                   -0.027226   \n",
      "1                                   -0.105759   \n",
      "2                                   -0.659788   \n",
      "3                                    0.246342   \n",
      "\n",
      "   Situation_Single victim/single offender  \\\n",
      "0                                 0.997451   \n",
      "1                                -0.440553   \n",
      "2                                -0.201191   \n",
      "3                                 0.589249   \n",
      "\n",
      "   Situation_Single victim/unknown offender(s)  Solved_Yes  \n",
      "0                                    -1.159585    1.226871  \n",
      "1                                     0.518234   -0.542805  \n",
      "2                                     0.353390   -0.342402  \n",
      "3                                    -0.703879    0.732441  \n",
      "\n",
      "[4 rows x 85 columns]\n",
      "\n",
      "--- Feature Means per Cluster (Proportions) ---\n",
      "         Circumstance_31  Circumstance_Abortion  \\\n",
      "Cluster                                           \n",
      "0               0.000000               0.000000   \n",
      "1               0.000000               0.000021   \n",
      "2               0.000055               0.000111   \n",
      "3               0.000000               0.000000   \n",
      "\n",
      "         Circumstance_All other manslaughter by negligence  \\\n",
      "Cluster                                                      \n",
      "0                                                 0.030929   \n",
      "1                                                 0.012745   \n",
      "2                                                 0.022747   \n",
      "3                                                 0.048695   \n",
      "\n",
      "         Circumstance_All suspected felony type  \\\n",
      "Cluster                                           \n",
      "0                                      0.012271   \n",
      "1                                      0.010395   \n",
      "2                                      0.015331   \n",
      "3                                      0.011553   \n",
      "\n",
      "         Circumstance_Argument over money or property  Circumstance_Arson  \\\n",
      "Cluster                                                                     \n",
      "0                                            0.012564            0.007511   \n",
      "1                                            0.015429            0.005983   \n",
      "2                                            0.031437            0.001937   \n",
      "3                                            0.015166            0.008485   \n",
      "\n",
      "         Circumstance_Brawl due to influence of alcohol  \\\n",
      "Cluster                                                   \n",
      "0                                              0.036813   \n",
      "1                                              0.017049   \n",
      "2                                              0.033429   \n",
      "3                                              0.030894   \n",
      "\n",
      "         Circumstance_Brawl due to influence of narcotics  \\\n",
      "Cluster                                                     \n",
      "0                                                0.005848   \n",
      "1                                                0.004920   \n",
      "2                                                0.004981   \n",
      "3                                                0.006655   \n",
      "\n",
      "         Circumstance_Burglary  Circumstance_Child killed by babysitter  ...  \\\n",
      "Cluster                                                                  ...   \n",
      "0                     0.010168                                 0.002710  ...   \n",
      "1                     0.008004                                 0.001393  ...   \n",
      "2                     0.008689                                 0.003321  ...   \n",
      "3                     0.009059                                 0.004000  ...   \n",
      "\n",
      "         Relationship_Stepmother  Relationship_Stepson  Relationship_Stranger  \\\n",
      "Cluster                                                                         \n",
      "0                       0.000114              0.005337               0.122978   \n",
      "1                       0.000415              0.001711               0.129713   \n",
      "2                       0.000111              0.001771               0.225592   \n",
      "3                       0.000600              0.002741               0.149976   \n",
      "\n",
      "         Relationship_Wife  Situation_Multiple victims/single offender  \\\n",
      "Cluster                                                                  \n",
      "0                 0.075520                                    0.116494   \n",
      "1                 0.035659                                    0.050288   \n",
      "2                 0.038466                                    0.057173   \n",
      "3                 0.062833                                    0.088163   \n",
      "\n",
      "         Situation_Multiple victims/unknown offender(s)  \\\n",
      "Cluster                                                   \n",
      "0                                              0.011518   \n",
      "1                                              0.020600   \n",
      "2                                              0.028116   \n",
      "3                                              0.016012   \n",
      "\n",
      "         Situation_Single victim/multiple offenders  \\\n",
      "Cluster                                               \n",
      "0                                          0.105976   \n",
      "1                                          0.103510   \n",
      "2                                          0.086119   \n",
      "3                                          0.114563   \n",
      "\n",
      "         Situation_Single victim/single offender  \\\n",
      "Cluster                                            \n",
      "0                                       0.668591   \n",
      "1                                       0.555773   \n",
      "2                                       0.574552   \n",
      "3                                       0.636565   \n",
      "\n",
      "         Situation_Single victim/unknown offender(s)  Solved_Yes  \n",
      "Cluster                                                           \n",
      "0                                           0.077897    0.904267  \n",
      "1                                           0.254328    0.711762  \n",
      "2                                           0.236994    0.733562  \n",
      "3                                           0.125816    0.850483  \n",
      "\n",
      "[4 rows x 85 columns]\n"
     ]
    }
   ],
   "source": [
    "# 1. Start with original df (with selected features)\n",
    "cols = ['State', 'Circumstance', 'Homicide', 'Weapon', 'Relationship', 'Situation', 'Solved']\n",
    "df_state = df_new[cols].copy()\n",
    "\n",
    "# 2. One-hot encode categorical features- this is important because PCA and KMEANS doesn't work with categorical variables\n",
    "df_encoded = pd.get_dummies(df_state.drop(columns='State'), drop_first=True)\n",
    "\n",
    "# 3. Group by state and compute means (proportion of each feature per state)\n",
    "df_grouped = pd.concat([df_state['State'], df_encoded], axis=1).groupby('State').mean()\n",
    "\n",
    "# 4. Scale the aggregated state-level data\n",
    "from sklearn.preprocessing import StandardScaler\n",
    "X_scaled = StandardScaler().fit_transform(df_grouped)\n",
    "\n",
    "# 5. Apply KMeans to the states\n",
    "from sklearn.cluster import KMeans\n",
    "kmeans = KMeans(n_clusters=4, random_state=42)\n",
    "df_grouped['Cluster'] = kmeans.fit_predict(X_scaled)\n",
    "\n",
    "# 6. See which cluster each state falls into\n",
    "print(df_grouped['Cluster'].sort_values())\n",
    "\n",
    "from sklearn.decomposition import PCA\n",
    "import matplotlib.pyplot as plt\n",
    "import seaborn as sns\n",
    "import pandas as pd\n",
    "\n",
    "# --- 1. PCA for Visualization ---\n",
    "pca = PCA(n_components=2)\n",
    "X_pca = pca.fit_transform(X_scaled)\n",
    "\n",
    "plt.figure(figsize=(12, 8))\n",
    "sns.scatterplot(x=X_pca[:, 0], y=X_pca[:, 1], hue=df_grouped['Cluster'], palette='tab10', s=100)\n",
    "\n",
    "# Label each state on the plot\n",
    "for i, state in enumerate(df_grouped.index):\n",
    "    plt.text(X_pca[i, 0] + 0.1, X_pca[i, 1], state, fontsize=8)\n",
    "\n",
    "plt.title('PCA Projection of State Clusters')\n",
    "plt.xlabel('Principal Component 1')\n",
    "plt.ylabel('Principal Component 2')\n",
    "plt.grid(True)\n",
    "plt.legend(title='Cluster', loc='best')\n",
    "plt.tight_layout()\n",
    "plt.show()\n",
    "\n",
    "\n",
    "# --- 1. WORKING WITH CLUSTER SUMMARIES\n",
    "\n",
    "# --- 2. Cluster Counts ---\n",
    "print(\"\\n--- Cluster Counts (Number of States per Cluster) ---\")\n",
    "print(df_grouped['Cluster'].value_counts())\n",
    "\n",
    "# --- 3. Cluster Centers (in scaled feature space) ---\n",
    "cluster_centers = pd.DataFrame(kmeans.cluster_centers_, columns=df_grouped.columns[:-1])\n",
    "print(\"\\n--- Cluster Centers (Scaled Feature Space) ---\")\n",
    "print(cluster_centers)\n",
    "\n",
    "# --- 4. Cluster Feature Summary (Means in original units) ---\n",
    "#  one-hot encoded data, aggregated by state\n",
    "df_encoded_with_state = pd.concat([df_state['State'], df_encoded], axis=1)\n",
    "df_grouped_unscaled = df_encoded_with_state.groupby('State').mean()\n",
    "\n",
    "# Adding  the cluster assignments back\n",
    "df_grouped_unscaled['Cluster'] = df_grouped['Cluster']\n",
    "\n",
    "# Now computing the mean of each feature per cluster\n",
    "cluster_summary = df_grouped_unscaled.groupby('Cluster').mean()\n",
    "\n",
    "print(\"\\n--- Feature Means per Cluster (Proportions) ---\")\n",
    "print(cluster_summary)\n"
   ]
  },
  {
   "cell_type": "markdown",
   "metadata": {
    "id": "6prH4zkuBjDp"
   },
   "source": [
    "Based on the PCA projections chart, there's a lot to dissect. To start, we see that the majority of states fall under cluster 1 of (30 states), then cluster 3 ( 16), then cluster 0 (4), and cluster 2 with only 1 stated. From this, we understand that cluster 2 may highlight an unusual pattern ( outlier)- the state was Arizona. The x-axis/ y-axis  values appear to be z scores ( they tell you how much above or below the mean a feature is for each cluster)- That being said, 0 means the feature is at the average, positive value means higher than average, and negative values mean lower than average. Now let's look at each cluster to note any patterns.\n",
    "\n",
    "1. Cluster 0: 4 states (Idaho, Maine, Motana, West Virginia)\n",
    "\n",
    "a. Key Patters: It has the highest proprtion of solved homicides (Solved_Yes ~ 90%), It has a single-victim/single-offender cases (66%), Low urban crime types like “multiple unknown offenders,” “stranger relationships,” and felonies, High rates of domestic relationships (wife, husband, family ties)- common in rural, low-population states.\n",
    "\n",
    "Insights: These are mostly rural states that have solvable, domestic relate homicides- low complexity of crimes.\n",
    "\n",
    "2. Cluster 1: (30 states)\n",
    "\n",
    "a. Key Patterns: It has the lowest solved rate of 71%, it has a high rates of unkown offender case, homicides involving strangers, more complex urban homicides, high population states.\n",
    "\n",
    "Insights: These (high population) states represent diverse, urban-driven homicide patterns where crimes are harder to solve.\n",
    "\n",
    "3. Cluster 2: (1 states- Arizona)\n",
    "\n",
    "a. Key Patterns: It has the high z scores in felony-related homicides, arguments over money, and stranager related homicides, it has low solved rates, and high multiple victim case and unknown offenders\n",
    "\n",
    "Insights: Arizona shows an extreme outlier pattern, especially in felony circumstances and argument-based killings. What could've caused this?\n",
    "\n",
    "4. Cluster 3: (16 states)\n",
    "\n",
    "a. Key Patterns: It has an above average solved rates ( 85%), and  High family or known-offender rates (wife, boyfriend, etc.). There was also an interesting elevation of child-realted homicide indicators ( babysitter, family)- more generalized motives(mixture)\n",
    "\n",
    "Insights: These states form a moderate cluster—not They may reflect balanced investigative systems and a mix of urban/rural crime.\n",
    "\n",
    "Conclusions\n",
    "\n",
    "Based on the above analysis, it looks like low population, and higher social ties ( connection) leads to a more solvable domestic crimes. While a Densely populated state has more unknow violence which leads to unsolved crimes, stranger homicides, and felony situations. Medium population has a balanced miz of domestic and unkonws.\n",
    "\n",
    "Group commentary: Just by looking at the Kepler.gl map and PCA visualization, it's clear that there's a pattern of clustering ( we can see the seperation). Relating back to our area of intrest and purpose. Based on the cluster summary, we can make the connection that higher population ( states near high populated areas tend to have more diverse cases, but high in anonymity ( stranger homicides and unknown offenders). While States near low populated states (have higher social ties and leading to more solvable domestic crimes). We'd like to convey to police officiers/ state defenders are: Outlier state, deploy specialized task forces for gang violence, trafficking, or serial offense. Also defintly puch for more porensic transparency- we already saw that higher unsolved rates mean that the evidence may be week and forensic efforts may need more of investing. For cluster 3, in particular, since there are elevated rates of arson, children killed by babysitters, and stepfamily-related cases- we could advise to police officers to coordinate with cps and fire departments during invesitgations, and definetly have more training to recognize nuanced abuse in families. Also, request pscyhological assessments for defendants in domestic or child-involved homicides, especially where abuse cycles may be present. Additionally , for high solve rates ( domestic focused)- Leverage prior restraining orders or 911 call patterns to preempt escalation."
   ]
  },
  {
   "cell_type": "code",
   "execution_count": 22,
   "metadata": {
    "id": "gI85wMFOpU9X"
   },
   "outputs": [],
   "source": [
    "import plotly.express as px\n",
    "import pandas as pd\n",
    "\n",
    "# Data: states and their corresponding cluster numbers\n",
    "data = {\n",
    "    'State': [\n",
    "        'Idaho', 'Maine', 'Montana', 'West Virginia', 'Delaware', 'Georgia', 'Connecticut', 'Alabama',\n",
    "        'Indiana', 'Illinois', 'Florida', 'Maryland', 'Kansas', 'Kentucky', 'District of Columbia',\n",
    "        'Arkansas', 'New Mexico', 'Mississippi', 'Missouri', 'Nevada', 'New Jersey', 'Massachusetts',\n",
    "        'Michigan', 'Louisiana', 'Rhode Island', 'Tennessee', 'Texas', 'Pennsylvania', 'North Carolina',\n",
    "        'Ohio', 'New York', 'California', 'Virginia', 'South Carolina', 'Arizona', 'Minnesota',\n",
    "        'Colorado', 'Alaska', 'Hawaii', 'Iowa', 'New Hampshire', 'Nebraska', 'North Dakota', 'Oklahoma',\n",
    "        'South Dakota', 'Utah', 'Vermont', 'Oregon', 'Washington', 'Wisconsin', 'Wyoming'\n",
    "    ],\n",
    "    'Cluster': [\n",
    "        0, 0, 0, 0, 1, 1, 1, 1, 1, 1, 1, 1, 1, 1, 1, 1, 1, 1, 1, 1, 1, 1, 1, 1, 1, 1, 1,\n",
    "        1, 1, 1, 1, 1, 1, 1, 2, 3, 3, 3, 3, 3, 3, 3, 3, 3, 3, 3, 3, 3, 3, 3, 3\n",
    "    ]\n",
    "}\n",
    "\n",
    "# Creating DataFrame\n",
    "df = pd.DataFrame(data)\n",
    "\n",
    "# Ensure that the 'Cluster' column is treated as categorical data\n",
    "df['Cluster'] = df['Cluster'].astype(str)\n",
    "\n",
    "\n",
    "#lat/lon centroids for each state\n",
    "state_coords = {\n",
    "    'Alabama': (32.806671, -86.791130),\n",
    "    'Alaska': (61.370716, -152.404419),\n",
    "    'Arizona': (33.729759, -111.431221),\n",
    "    'Arkansas': (34.969704, -92.373123),\n",
    "    'California': (36.116203, -119.681564),\n",
    "    'Colorado': (39.059811, -105.311104),\n",
    "    'Connecticut': (41.597782, -72.755371),\n",
    "    'Delaware': (39.318523, -75.507141),\n",
    "    'District of Columbia': (38.897438, -77.026817),\n",
    "    'Florida': (27.766279, -81.686783),\n",
    "    'Georgia': (33.040619, -83.643074),\n",
    "    'Hawaii': (21.094318, -157.498337),\n",
    "    'Idaho': (44.240459, -114.478828),\n",
    "    'Illinois': (40.349457, -88.986137),\n",
    "    'Indiana': (39.849426, -86.258278),\n",
    "    'Iowa': (42.011539, -93.210526),\n",
    "    'Kansas': (38.526600, -96.726486),\n",
    "    'Kentucky': (37.668140, -84.670067),\n",
    "    'Louisiana': (31.169546, -91.867805),\n",
    "    'Maine': (44.693947, -69.381927),\n",
    "    'Maryland': (39.063946, -76.802101),\n",
    "    'Massachusetts': (42.230171, -71.530106),\n",
    "    'Michigan': (43.326618, -84.536095),\n",
    "    'Minnesota': (45.694454, -93.900192),\n",
    "    'Mississippi': (32.741646, -89.678696),\n",
    "    'Missouri': (38.456085, -92.288368),\n",
    "    'Montana': (46.921925, -110.454353),\n",
    "    'Nebraska': (41.125370, -98.268082),\n",
    "    'Nevada': (38.313515, -117.055374),\n",
    "    'New Hampshire': (43.452492, -71.563896),\n",
    "    'New Jersey': (40.298904, -74.521011),\n",
    "    'New Mexico': (34.840515, -106.248482),\n",
    "    'New York': (42.165726, -74.948051),\n",
    "    'North Carolina': (35.630066, -79.806419),\n",
    "    'North Dakota': (47.528912, -99.784012),\n",
    "    'Ohio': (40.388783, -82.764915),\n",
    "    'Oklahoma': (35.565342, -96.928917),\n",
    "    'Oregon': (44.572021, -122.070938),\n",
    "    'Pennsylvania': (40.590752, -77.209755),\n",
    "    'Rhode Island': (41.680893, -71.511780),\n",
    "    'South Carolina': (33.856892, -80.945007),\n",
    "    'South Dakota': (44.299782, -99.438828),\n",
    "    'Tennessee': (35.747845, -86.692345),\n",
    "    'Texas': (31.054487, -97.563461),\n",
    "    'Utah': (40.150032, -111.862434),\n",
    "    'Vermont': (44.045876, -72.710686),\n",
    "    'Virginia': (37.769337, -78.169968),\n",
    "    'Washington': (47.400902, -121.490494),\n",
    "    'West Virginia': (38.491226, -80.954570),\n",
    "    'Wisconsin': (44.268543, -89.616508),\n",
    "    'Wyoming': (42.755966, -107.302490)\n",
    "}\n",
    "\n",
    "# Add lat/lon to your dataframe\n",
    "df[\"Latitude\"] = df[\"State\"].map(lambda x: state_coords[x][0])\n",
    "df[\"Longitude\"] = df[\"State\"].map(lambda x: state_coords[x][1])\n",
    "\n",
    "# Save to CSV for Kepler\n",
    "df.to_csv(\"state_clusters_for_kepler.csv\", index=False)"
   ]
  }
 ],
 "metadata": {
  "colab": {
   "private_outputs": true,
   "provenance": []
  },
  "kernelspec": {
   "display_name": "Python 3 (ipykernel)",
   "language": "python",
   "name": "python3"
  },
  "language_info": {
   "codemirror_mode": {
    "name": "ipython",
    "version": 3
   },
   "file_extension": ".py",
   "mimetype": "text/x-python",
   "name": "python",
   "nbconvert_exporter": "python",
   "pygments_lexer": "ipython3",
   "version": "3.12.4"
  }
 },
 "nbformat": 4,
 "nbformat_minor": 4
}
