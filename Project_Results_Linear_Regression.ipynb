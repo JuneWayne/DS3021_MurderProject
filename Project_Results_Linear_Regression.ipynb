{
  "cells": [
    {
      "cell_type": "code",
      "execution_count": 2,
      "metadata": {
        "id": "Tc1C8EJuvaCt"
      },
      "outputs": [],
      "source": [
        "import pandas as pd\n",
        "import numpy as np\n",
        "import matplotlib.pyplot as plt\n",
        "import seaborn as sns"
      ]
    },
    {
      "cell_type": "code",
      "execution_count": 3,
      "metadata": {
        "colab": {
          "base_uri": "https://localhost:8080/",
          "height": 515
        },
        "id": "MueQb-siw-KO",
        "outputId": "024c5c30-8c2e-485d-88a1-eceb5a557b6d"
      },
      "outputs": [
        {
          "data": {
            "text/html": [
              "<div>\n",
              "<style scoped>\n",
              "    .dataframe tbody tr th:only-of-type {\n",
              "        vertical-align: middle;\n",
              "    }\n",
              "\n",
              "    .dataframe tbody tr th {\n",
              "        vertical-align: top;\n",
              "    }\n",
              "\n",
              "    .dataframe thead th {\n",
              "        text-align: right;\n",
              "    }\n",
              "</style>\n",
              "<table border=\"1\" class=\"dataframe\">\n",
              "  <thead>\n",
              "    <tr style=\"text-align: right;\">\n",
              "      <th></th>\n",
              "      <th>ID</th>\n",
              "      <th>CNTYFIPS</th>\n",
              "      <th>Ori</th>\n",
              "      <th>State</th>\n",
              "      <th>Agency</th>\n",
              "      <th>Agentype</th>\n",
              "      <th>Source</th>\n",
              "      <th>Solved</th>\n",
              "      <th>Year</th>\n",
              "      <th>Month</th>\n",
              "      <th>...</th>\n",
              "      <th>OffRace</th>\n",
              "      <th>OffEthnic</th>\n",
              "      <th>Weapon</th>\n",
              "      <th>Relationship</th>\n",
              "      <th>Circumstance</th>\n",
              "      <th>Subcircum</th>\n",
              "      <th>VicCount</th>\n",
              "      <th>OffCount</th>\n",
              "      <th>FileDate</th>\n",
              "      <th>MSA</th>\n",
              "    </tr>\n",
              "  </thead>\n",
              "  <tbody>\n",
              "    <tr>\n",
              "      <th>0</th>\n",
              "      <td>197603001AK00101</td>\n",
              "      <td>Anchorage, AK</td>\n",
              "      <td>AK00101</td>\n",
              "      <td>Alaska</td>\n",
              "      <td>Anchorage</td>\n",
              "      <td>Municipal police</td>\n",
              "      <td>FBI</td>\n",
              "      <td>Yes</td>\n",
              "      <td>1976</td>\n",
              "      <td>March</td>\n",
              "      <td>...</td>\n",
              "      <td>Black</td>\n",
              "      <td>Unknown or not reported</td>\n",
              "      <td>Handgun - pistol, revolver, etc</td>\n",
              "      <td>Relationship not determined</td>\n",
              "      <td>Other arguments</td>\n",
              "      <td>NaN</td>\n",
              "      <td>0</td>\n",
              "      <td>0</td>\n",
              "      <td>30180.0</td>\n",
              "      <td>Anchorage, AK</td>\n",
              "    </tr>\n",
              "    <tr>\n",
              "      <th>1</th>\n",
              "      <td>197604001AK00101</td>\n",
              "      <td>Anchorage, AK</td>\n",
              "      <td>AK00101</td>\n",
              "      <td>Alaska</td>\n",
              "      <td>Anchorage</td>\n",
              "      <td>Municipal police</td>\n",
              "      <td>FBI</td>\n",
              "      <td>Yes</td>\n",
              "      <td>1976</td>\n",
              "      <td>April</td>\n",
              "      <td>...</td>\n",
              "      <td>White</td>\n",
              "      <td>Unknown or not reported</td>\n",
              "      <td>Handgun - pistol, revolver, etc</td>\n",
              "      <td>Girlfriend</td>\n",
              "      <td>Other arguments</td>\n",
              "      <td>NaN</td>\n",
              "      <td>0</td>\n",
              "      <td>0</td>\n",
              "      <td>30180.0</td>\n",
              "      <td>Anchorage, AK</td>\n",
              "    </tr>\n",
              "    <tr>\n",
              "      <th>2</th>\n",
              "      <td>197606001AK00101</td>\n",
              "      <td>Anchorage, AK</td>\n",
              "      <td>AK00101</td>\n",
              "      <td>Alaska</td>\n",
              "      <td>Anchorage</td>\n",
              "      <td>Municipal police</td>\n",
              "      <td>FBI</td>\n",
              "      <td>Yes</td>\n",
              "      <td>1976</td>\n",
              "      <td>June</td>\n",
              "      <td>...</td>\n",
              "      <td>Black</td>\n",
              "      <td>Unknown or not reported</td>\n",
              "      <td>Handgun - pistol, revolver, etc</td>\n",
              "      <td>Stranger</td>\n",
              "      <td>Other</td>\n",
              "      <td>NaN</td>\n",
              "      <td>0</td>\n",
              "      <td>0</td>\n",
              "      <td>30180.0</td>\n",
              "      <td>Anchorage, AK</td>\n",
              "    </tr>\n",
              "    <tr>\n",
              "      <th>3</th>\n",
              "      <td>197606002AK00101</td>\n",
              "      <td>Anchorage, AK</td>\n",
              "      <td>AK00101</td>\n",
              "      <td>Alaska</td>\n",
              "      <td>Anchorage</td>\n",
              "      <td>Municipal police</td>\n",
              "      <td>FBI</td>\n",
              "      <td>Yes</td>\n",
              "      <td>1976</td>\n",
              "      <td>June</td>\n",
              "      <td>...</td>\n",
              "      <td>White</td>\n",
              "      <td>Unknown or not reported</td>\n",
              "      <td>Handgun - pistol, revolver, etc</td>\n",
              "      <td>Other - known to victim</td>\n",
              "      <td>Other arguments</td>\n",
              "      <td>NaN</td>\n",
              "      <td>0</td>\n",
              "      <td>0</td>\n",
              "      <td>30180.0</td>\n",
              "      <td>Anchorage, AK</td>\n",
              "    </tr>\n",
              "    <tr>\n",
              "      <th>4</th>\n",
              "      <td>197607001AK00101</td>\n",
              "      <td>Anchorage, AK</td>\n",
              "      <td>AK00101</td>\n",
              "      <td>Alaska</td>\n",
              "      <td>Anchorage</td>\n",
              "      <td>Municipal police</td>\n",
              "      <td>FBI</td>\n",
              "      <td>Yes</td>\n",
              "      <td>1976</td>\n",
              "      <td>July</td>\n",
              "      <td>...</td>\n",
              "      <td>American Indian or Alaskan Native</td>\n",
              "      <td>Unknown or not reported</td>\n",
              "      <td>Knife or cutting instrument</td>\n",
              "      <td>Brother</td>\n",
              "      <td>Other arguments</td>\n",
              "      <td>NaN</td>\n",
              "      <td>0</td>\n",
              "      <td>0</td>\n",
              "      <td>30180.0</td>\n",
              "      <td>Anchorage, AK</td>\n",
              "    </tr>\n",
              "  </tbody>\n",
              "</table>\n",
              "<p>5 rows × 30 columns</p>\n",
              "</div>"
            ],
            "text/plain": [
              "                 ID       CNTYFIPS      Ori   State     Agency  \\\n",
              "0  197603001AK00101  Anchorage, AK  AK00101  Alaska  Anchorage   \n",
              "1  197604001AK00101  Anchorage, AK  AK00101  Alaska  Anchorage   \n",
              "2  197606001AK00101  Anchorage, AK  AK00101  Alaska  Anchorage   \n",
              "3  197606002AK00101  Anchorage, AK  AK00101  Alaska  Anchorage   \n",
              "4  197607001AK00101  Anchorage, AK  AK00101  Alaska  Anchorage   \n",
              "\n",
              "           Agentype Source Solved  Year  Month  ...  \\\n",
              "0  Municipal police    FBI    Yes  1976  March  ...   \n",
              "1  Municipal police    FBI    Yes  1976  April  ...   \n",
              "2  Municipal police    FBI    Yes  1976   June  ...   \n",
              "3  Municipal police    FBI    Yes  1976   June  ...   \n",
              "4  Municipal police    FBI    Yes  1976   July  ...   \n",
              "\n",
              "                             OffRace                OffEthnic  \\\n",
              "0                              Black  Unknown or not reported   \n",
              "1                              White  Unknown or not reported   \n",
              "2                              Black  Unknown or not reported   \n",
              "3                              White  Unknown or not reported   \n",
              "4  American Indian or Alaskan Native  Unknown or not reported   \n",
              "\n",
              "                            Weapon                 Relationship  \\\n",
              "0  Handgun - pistol, revolver, etc  Relationship not determined   \n",
              "1  Handgun - pistol, revolver, etc                   Girlfriend   \n",
              "2  Handgun - pistol, revolver, etc                     Stranger   \n",
              "3  Handgun - pistol, revolver, etc      Other - known to victim   \n",
              "4      Knife or cutting instrument                      Brother   \n",
              "\n",
              "      Circumstance Subcircum VicCount OffCount  FileDate            MSA  \n",
              "0  Other arguments       NaN        0        0   30180.0  Anchorage, AK  \n",
              "1  Other arguments       NaN        0        0   30180.0  Anchorage, AK  \n",
              "2            Other       NaN        0        0   30180.0  Anchorage, AK  \n",
              "3  Other arguments       NaN        0        0   30180.0  Anchorage, AK  \n",
              "4  Other arguments       NaN        0        0   30180.0  Anchorage, AK  \n",
              "\n",
              "[5 rows x 30 columns]"
            ]
          },
          "execution_count": 3,
          "metadata": {},
          "output_type": "execute_result"
        }
      ],
      "source": [
        "df= pd.read_csv('SHR65_23.csv')\n",
        "df.head()"
      ]
    },
    {
      "cell_type": "code",
      "execution_count": 4,
      "metadata": {
        "colab": {
          "base_uri": "https://localhost:8080/",
          "height": 1000
        },
        "id": "dEqRIdU8_Jr-",
        "outputId": "6ee222e2-7b9e-4de7-bd4b-acdb07e4caa8"
      },
      "outputs": [
        {
          "data": {
            "text/plain": [
              "State\n",
              "California              129741\n",
              "Texas                    86288\n",
              "New York                 62695\n",
              "Florida                  50854\n",
              "Illinois                 39227\n",
              "Michigan                 38641\n",
              "Pennsylvania             34307\n",
              "Georgia                  29698\n",
              "North Carolina           29460\n",
              "Ohio                     28230\n",
              "Louisiana                27411\n",
              "Maryland                 23742\n",
              "Missouri                 22456\n",
              "Virginia                 22454\n",
              "Tennessee                22310\n",
              "New Jersey               18750\n",
              "Alabama                  18169\n",
              "Arizona                  18068\n",
              "South Carolina           17677\n",
              "Indiana                  16723\n",
              "Oklahoma                 12518\n",
              "Washington               11263\n",
              "Kentucky                 10877\n",
              "Arkansas                 10223\n",
              "Colorado                 10134\n",
              "District of Columbia      9833\n",
              "Wisconsin                 9673\n",
              "Mississippi               8946\n",
              "Massachusetts             8180\n",
              "Nevada                    8068\n",
              "Connecticut               6542\n",
              "New Mexico                6310\n",
              "Oregon                    6208\n",
              "Minnesota                 6036\n",
              "Kansas                    4766\n",
              "West Virginia             4402\n",
              "Utah                      2982\n",
              "Iowa                      2775\n",
              "Alaska                    2426\n",
              "Nebraska                  2003\n",
              "Hawaii                    1904\n",
              "Delaware                  1890\n",
              "Idaho                     1768\n",
              "Rhodes Island             1580\n",
              "Maine                     1323\n",
              "Montana                   1132\n",
              "New Hampshire              989\n",
              "Wyoming                    931\n",
              "South Dakota               839\n",
              "North Dakota               611\n",
              "Vermont                    603\n",
              "Name: count, dtype: int64"
            ]
          },
          "execution_count": 4,
          "metadata": {},
          "output_type": "execute_result"
        }
      ],
      "source": [
        "df['State'].value_counts()"
      ]
    },
    {
      "cell_type": "code",
      "execution_count": 5,
      "metadata": {
        "colab": {
          "base_uri": "https://localhost:8080/"
        },
        "id": "xYksubG-15-_",
        "outputId": "4f290f80-7c1f-467f-86e3-4d6eab962e20"
      },
      "outputs": [
        {
          "name": "stdout",
          "output_type": "stream",
          "text": [
            "<class 'pandas.core.frame.DataFrame'>\n",
            "RangeIndex: 894636 entries, 0 to 894635\n",
            "Data columns (total 30 columns):\n",
            " #   Column        Non-Null Count   Dtype  \n",
            "---  ------        --------------   -----  \n",
            " 0   ID            894636 non-null  object \n",
            " 1   CNTYFIPS      894636 non-null  object \n",
            " 2   Ori           894636 non-null  object \n",
            " 3   State         894636 non-null  object \n",
            " 4   Agency        894636 non-null  object \n",
            " 5   Agentype      894636 non-null  object \n",
            " 6   Source        894636 non-null  object \n",
            " 7   Solved        894636 non-null  object \n",
            " 8   Year          894636 non-null  int64  \n",
            " 9   Month         894636 non-null  object \n",
            " 10  Incident      894636 non-null  int64  \n",
            " 11  ActionType    894636 non-null  object \n",
            " 12  Homicide      894636 non-null  object \n",
            " 13  Situation     894636 non-null  object \n",
            " 14  VicAge        894636 non-null  int64  \n",
            " 15  VicSex        894636 non-null  object \n",
            " 16  VicRace       894636 non-null  object \n",
            " 17  VicEthnic     894636 non-null  object \n",
            " 18  OffAge        894636 non-null  int64  \n",
            " 19  OffSex        894636 non-null  object \n",
            " 20  OffRace       894636 non-null  object \n",
            " 21  OffEthnic     894636 non-null  object \n",
            " 22  Weapon        894636 non-null  object \n",
            " 23  Relationship  894636 non-null  object \n",
            " 24  Circumstance  894636 non-null  object \n",
            " 25  Subcircum     34750 non-null   object \n",
            " 26  VicCount      894636 non-null  int64  \n",
            " 27  OffCount      894636 non-null  int64  \n",
            " 28  FileDate      877561 non-null  float64\n",
            " 29  MSA           894636 non-null  object \n",
            "dtypes: float64(1), int64(6), object(23)\n",
            "memory usage: 204.8+ MB\n",
            "None\n",
            "                Year       Incident         VicAge         OffAge  \\\n",
            "count  894636.000000  894636.000000  894636.000000  894636.000000   \n",
            "mean     1998.868617      53.117632      47.313424     351.740167   \n",
            "std        14.134767     790.036562     117.434844     455.602403   \n",
            "min      1976.000000       0.000000       0.000000       0.000000   \n",
            "25%      1987.000000       1.000000      22.000000      24.000000   \n",
            "50%      1997.000000       2.000000      30.000000      38.000000   \n",
            "75%      2011.000000      11.000000      42.000000     999.000000   \n",
            "max      2023.000000   27113.000000     999.000000     999.000000   \n",
            "\n",
            "            VicCount       OffCount       FileDate  \n",
            "count  894636.000000  894636.000000  877561.000000  \n",
            "mean        0.134561       0.194908   54137.984079  \n",
            "std         0.605561       0.617827   32779.720549  \n",
            "min         0.000000       0.000000    1121.000000  \n",
            "25%         0.000000       0.000000   30180.000000  \n",
            "50%         0.000000       0.000000   41317.000000  \n",
            "75%         0.000000       0.000000   82207.000000  \n",
            "max        52.000000      40.000000  123197.000000  \n",
            "(894636, 30)\n"
          ]
        }
      ],
      "source": [
        "print(df.info())\n",
        "print(df.describe())\n",
        "print(df.shape)"
      ]
    },
    {
      "cell_type": "code",
      "execution_count": 6,
      "metadata": {
        "colab": {
          "base_uri": "https://localhost:8080/",
          "height": 1000
        },
        "id": "GAH3ZsXk1_Bo",
        "outputId": "fe695c25-a10f-46ec-af20-b5ff2f13bbeb"
      },
      "outputs": [
        {
          "data": {
            "text/plain": [
              "ID                   0\n",
              "CNTYFIPS             0\n",
              "Ori                  0\n",
              "State                0\n",
              "Agency               0\n",
              "Agentype             0\n",
              "Source               0\n",
              "Solved               0\n",
              "Year                 0\n",
              "Month                0\n",
              "Incident             0\n",
              "ActionType           0\n",
              "Homicide             0\n",
              "Situation            0\n",
              "VicAge               0\n",
              "VicSex               0\n",
              "VicRace              0\n",
              "VicEthnic            0\n",
              "OffAge               0\n",
              "OffSex               0\n",
              "OffRace              0\n",
              "OffEthnic            0\n",
              "Weapon               0\n",
              "Relationship         0\n",
              "Circumstance         0\n",
              "Subcircum       859886\n",
              "VicCount             0\n",
              "OffCount             0\n",
              "FileDate         17075\n",
              "MSA                  0\n",
              "dtype: int64"
            ]
          },
          "execution_count": 6,
          "metadata": {},
          "output_type": "execute_result"
        }
      ],
      "source": [
        "df.isnull().sum()"
      ]
    },
    {
      "cell_type": "code",
      "execution_count": 7,
      "metadata": {
        "colab": {
          "base_uri": "https://localhost:8080/",
          "height": 962
        },
        "id": "QHB3mLbkwNKu",
        "outputId": "d8805d6a-8d18-43f5-a399-615e0b575b9d"
      },
      "outputs": [
        {
          "data": {
            "text/plain": [
              "ID              0\n",
              "CNTYFIPS        0\n",
              "Ori             0\n",
              "State           0\n",
              "Agency          0\n",
              "Agentype        0\n",
              "Source          0\n",
              "Solved          0\n",
              "Year            0\n",
              "Month           0\n",
              "Incident        0\n",
              "ActionType      0\n",
              "Homicide        0\n",
              "Situation       0\n",
              "VicAge          0\n",
              "VicSex          0\n",
              "VicRace         0\n",
              "VicEthnic       0\n",
              "OffAge          0\n",
              "OffSex          0\n",
              "OffRace         0\n",
              "OffEthnic       0\n",
              "Weapon          0\n",
              "Relationship    0\n",
              "Circumstance    0\n",
              "VicCount        0\n",
              "OffCount        0\n",
              "MSA             0\n",
              "dtype: int64"
            ]
          },
          "execution_count": 7,
          "metadata": {},
          "output_type": "execute_result"
        }
      ],
      "source": [
        "df_new= df.drop(['Subcircum', 'FileDate'], axis='columns')\n",
        "df_new.isnull().sum()"
      ]
    },
    {
      "cell_type": "code",
      "execution_count": 8,
      "metadata": {
        "colab": {
          "base_uri": "https://localhost:8080/",
          "height": 962
        },
        "id": "PagsBZymwuCK",
        "outputId": "675173f3-2f14-4589-fbdb-c857c8f176f7"
      },
      "outputs": [
        {
          "data": {
            "text/plain": [
              "ID              0\n",
              "CNTYFIPS        0\n",
              "Ori             0\n",
              "State           0\n",
              "Agency          0\n",
              "Agentype        0\n",
              "Source          0\n",
              "Solved          0\n",
              "Year            0\n",
              "Month           0\n",
              "Incident        0\n",
              "ActionType      0\n",
              "Homicide        0\n",
              "Situation       0\n",
              "VicAge          0\n",
              "VicSex          0\n",
              "VicRace         0\n",
              "VicEthnic       0\n",
              "OffAge          0\n",
              "OffSex          0\n",
              "OffRace         0\n",
              "OffEthnic       0\n",
              "Weapon          0\n",
              "Relationship    0\n",
              "Circumstance    0\n",
              "VicCount        0\n",
              "OffCount        0\n",
              "MSA             0\n",
              "dtype: int64"
            ]
          },
          "execution_count": 8,
          "metadata": {},
          "output_type": "execute_result"
        }
      ],
      "source": [
        "df_new.dropna(inplace=True)\n",
        "df_new.isnull().sum()"
      ]
    },
    {
      "cell_type": "code",
      "execution_count": 9,
      "metadata": {
        "colab": {
          "base_uri": "https://localhost:8080/"
        },
        "id": "TqoU8vRiwxQq",
        "outputId": "8f985eeb-d907-4fbb-deb1-cc9ad58065a2"
      },
      "outputs": [
        {
          "data": {
            "text/plain": [
              "(894636, 28)"
            ]
          },
          "execution_count": 9,
          "metadata": {},
          "output_type": "execute_result"
        }
      ],
      "source": [
        "df_new.shape"
      ]
    },
    {
      "cell_type": "code",
      "execution_count": 10,
      "metadata": {
        "colab": {
          "base_uri": "https://localhost:8080/"
        },
        "id": "9biyI9Q1yvkh",
        "outputId": "34da9bda-0da6-44f3-9ad2-819e729a37b5"
      },
      "outputs": [
        {
          "data": {
            "text/plain": [
              "Index(['ID', 'CNTYFIPS', 'Ori', 'State', 'Agency', 'Agentype', 'Source',\n",
              "       'Solved', 'Year', 'Month', 'Incident', 'ActionType', 'Homicide',\n",
              "       'Situation', 'VicAge', 'VicSex', 'VicRace', 'VicEthnic', 'OffAge',\n",
              "       'OffSex', 'OffRace', 'OffEthnic', 'Weapon', 'Relationship',\n",
              "       'Circumstance', 'Subcircum', 'VicCount', 'OffCount', 'FileDate', 'MSA'],\n",
              "      dtype='object')"
            ]
          },
          "execution_count": 10,
          "metadata": {},
          "output_type": "execute_result"
        }
      ],
      "source": [
        "df.columns"
      ]
    },
    {
      "cell_type": "code",
      "execution_count": 11,
      "metadata": {
        "colab": {
          "base_uri": "https://localhost:8080/",
          "height": 679
        },
        "id": "mLMrgSeXw2F6",
        "outputId": "4c00c902-e6bf-44c2-df06-c985036de87b"
      },
      "outputs": [
        {
          "data": {
            "text/plain": [
              "Weapon\n",
              "Handgun - pistol, revolver, etc         429715\n",
              "Knife or cutting instrument             124882\n",
              "Firearm, type not stated                 92766\n",
              "Other or type unknown                    51043\n",
              "Personal weapons, includes beating       49469\n",
              "Shotgun                                  39915\n",
              "Blunt object - hammer, club, etc         37262\n",
              "Rifle                                    32461\n",
              "Strangulation - hanging                  10157\n",
              "Fire                                      8207\n",
              "Asphyxiation - includes death by gas      5377\n",
              "Other gun                                 4456\n",
              "Narcotics or drugs, sleeping pills        3987\n",
              "Weapon Not Reported                       1881\n",
              "Drowning                                  1515\n",
              "Poison - does not include gas              645\n",
              "Explosives                                 636\n",
              "Pushed or thrown out window                262\n",
              "Name: count, dtype: int64"
            ]
          },
          "execution_count": 11,
          "metadata": {},
          "output_type": "execute_result"
        }
      ],
      "source": [
        "df['Weapon'].value_counts()"
      ]
    },
    {
      "cell_type": "code",
      "execution_count": 12,
      "metadata": {
        "colab": {
          "base_uri": "https://localhost:8080/",
          "height": 466
        },
        "id": "DzGdwrfRxeFS",
        "outputId": "9cad0b57-c62a-4b66-8733-ad2bf55d2dd9"
      },
      "outputs": [],
      "source": [
        "#sns.countplot(df_new['Weapon'])"
      ]
    },
    {
      "cell_type": "code",
      "execution_count": 13,
      "metadata": {
        "id": "KDH91mmb4QhV"
      },
      "outputs": [],
      "source": [
        "state_to_region = {\n",
        "    'Maine': 'Northeast', 'New Hampshire': 'Northeast', 'Vermont': 'Northeast',\n",
        "    'Massachusetts': 'Northeast', 'Rhode Island': 'Northeast', 'Connecticut': 'Northeast',\n",
        "    'New York': 'Northeast', 'New Jersey': 'Northeast', 'Pennsylvania': 'Northeast',\n",
        "\n",
        "    'Ohio': 'Midwest', 'Michigan': 'Midwest', 'Indiana': 'Midwest', 'Illinois': 'Midwest',\n",
        "    'Wisconsin': 'Midwest', 'Minnesota': 'Midwest', 'Iowa': 'Midwest', 'Missouri': 'Midwest',\n",
        "    'North Dakota': 'Midwest', 'South Dakota': 'Midwest', 'Nebraska': 'Midwest', 'Kansas': 'Midwest',\n",
        "\n",
        "    'Delaware': 'South', 'Maryland': 'South', 'District of Columbia': 'South', 'Virginia': 'South',\n",
        "    'West Virginia': 'South', 'North Carolina': 'South', 'South Carolina': 'South', 'Georgia': 'South',\n",
        "    'Florida': 'South', 'Kentucky': 'South', 'Tennessee': 'South', 'Mississippi': 'South',\n",
        "    'Alabama': 'South', 'Oklahoma': 'South', 'Texas': 'South', 'Arkansas': 'South', 'Louisiana': 'South',\n",
        "\n",
        "    'Montana': 'West', 'Idaho': 'West', 'Wyoming': 'West', 'Colorado': 'West', 'New Mexico': 'West',\n",
        "    'Arizona': 'West', 'Utah': 'West', 'Nevada': 'West', 'Washington': 'West', 'Oregon': 'West',\n",
        "    'California': 'West', 'Alaska': 'West', 'Hawaii': 'West'\n",
        "}\n",
        "df['Region'] = df['State'].map(state_to_region)"
      ]
    },
    {
      "cell_type": "code",
      "execution_count": 14,
      "metadata": {
        "colab": {
          "base_uri": "https://localhost:8080/"
        },
        "id": "jHBUouQpAWKl",
        "outputId": "13aad961-8315-482f-a6f6-fb06cd9e4162"
      },
      "outputs": [
        {
          "name": "stdout",
          "output_type": "stream",
          "text": [
            "      Region  Year  HomicideCount\n",
            "0    Midwest  1976           4209\n",
            "1    Midwest  1977           4081\n",
            "2    Midwest  1978           4019\n",
            "3    Midwest  1979           4567\n",
            "4    Midwest  1980           4670\n",
            "..       ...   ...            ...\n",
            "187     West  2019           3500\n",
            "188     West  2020           4575\n",
            "189     West  2021           4927\n",
            "190     West  2022           4873\n",
            "191     West  2023           4501\n",
            "\n",
            "[192 rows x 3 columns]\n"
          ]
        }
      ],
      "source": [
        "homicide_counts = df.groupby(['Region', 'Year']).size().reset_index(name='HomicideCount')\n",
        "print(homicide_counts)"
      ]
    },
    {
      "cell_type": "code",
      "execution_count": 15,
      "metadata": {
        "colab": {
          "base_uri": "https://localhost:8080/"
        },
        "id": "m_EXazIvArDl",
        "outputId": "033ac4b3-36a3-4867-e740-7af9c64121a8"
      },
      "outputs": [
        {
          "name": "stdout",
          "output_type": "stream",
          "text": [
            "R-squared on test set: 0.7998270432167894\n"
          ]
        }
      ],
      "source": [
        "from sklearn.linear_model import LinearRegression\n",
        "from sklearn.model_selection import train_test_split\n",
        "\n",
        "X = pd.get_dummies(homicide_counts[['Region', 'Year']], drop_first=True)\n",
        "y = homicide_counts['HomicideCount']\n",
        "\n",
        "# train/test split\n",
        "X_train, X_test, y_train, y_test = train_test_split(X, y, random_state=42, test_size=0.2)\n",
        "\n",
        "# fitting the model\n",
        "model = LinearRegression()\n",
        "model.fit(X_train, y_train)\n",
        "\n",
        "print(\"R-squared on test set:\", model.score(X_test, y_test))"
      ]
    },
    {
      "cell_type": "code",
      "execution_count": 16,
      "metadata": {
        "colab": {
          "base_uri": "https://localhost:8080/"
        },
        "id": "N99BtrfxGmi0",
        "outputId": "414884eb-ba7d-46d7-e873-9aa117f75322"
      },
      "outputs": [
        {
          "name": "stdout",
          "output_type": "stream",
          "text": [
            "               Slope     Intercept  R_squared\n",
            "Midwest    -3.104798   9830.298788   0.008350\n",
            "Northeast -35.466910  73734.341937   0.579412\n",
            "South       3.627895    943.334073  -0.018787\n",
            "West       -8.719894  21649.037465   0.066501\n"
          ]
        }
      ],
      "source": [
        "results = {}\n",
        "\n",
        "for region in homicide_counts['Region'].unique():\n",
        "\n",
        "    # subset to this region\n",
        "    new_df = homicide_counts[homicide_counts['Region'] == region]\n",
        "\n",
        "    X = new_df[['Year']]\n",
        "    y = new_df['HomicideCount']\n",
        "\n",
        "    # train/test split\n",
        "    X_train, X_test, y_train, y_test = train_test_split(\n",
        "        X, y, random_state=42, test_size=0.2)\n",
        "\n",
        "    # fitting the model\n",
        "    model = LinearRegression()\n",
        "    model.fit(X_train, y_train)\n",
        "\n",
        "    slope = model.coef_[0]\n",
        "    intercept = model.intercept_\n",
        "    r_squared = model.score(X, y)\n",
        "\n",
        "    results[region] = {\n",
        "        'Slope': slope,\n",
        "        'Intercept': intercept,\n",
        "        'R_squared': r_squared\n",
        "    }\n",
        "\n",
        "results_df = pd.DataFrame(results).T\n",
        "print(results_df)"
      ]
    },
    {
      "cell_type": "code",
      "execution_count": 17,
      "metadata": {
        "colab": {
          "base_uri": "https://localhost:8080/",
          "height": 472
        },
        "id": "1zx5PMOuA8gu",
        "outputId": "b75157f2-9b06-42a6-ba9d-27d8c03f3aef"
      },
      "outputs": [
        {
          "name": "stderr",
          "output_type": "stream",
          "text": [
            "c:\\Users\\elain\\anaconda3\\Lib\\site-packages\\seaborn\\_oldcore.py:1119: FutureWarning: use_inf_as_na option is deprecated and will be removed in a future version. Convert inf values to NaN before operating instead.\n",
            "  with pd.option_context('mode.use_inf_as_na', True):\n",
            "c:\\Users\\elain\\anaconda3\\Lib\\site-packages\\seaborn\\_oldcore.py:1119: FutureWarning: use_inf_as_na option is deprecated and will be removed in a future version. Convert inf values to NaN before operating instead.\n",
            "  with pd.option_context('mode.use_inf_as_na', True):\n",
            "c:\\Users\\elain\\anaconda3\\Lib\\site-packages\\seaborn\\_oldcore.py:1075: FutureWarning: When grouping with a length-1 list-like, you will need to pass a length-1 tuple to get_group in a future version of pandas. Pass `(name,)` instead of `name` to silence this warning.\n",
            "  data_subset = grouped_data.get_group(pd_key)\n",
            "c:\\Users\\elain\\anaconda3\\Lib\\site-packages\\seaborn\\_oldcore.py:1075: FutureWarning: When grouping with a length-1 list-like, you will need to pass a length-1 tuple to get_group in a future version of pandas. Pass `(name,)` instead of `name` to silence this warning.\n",
            "  data_subset = grouped_data.get_group(pd_key)\n",
            "c:\\Users\\elain\\anaconda3\\Lib\\site-packages\\seaborn\\_oldcore.py:1075: FutureWarning: When grouping with a length-1 list-like, you will need to pass a length-1 tuple to get_group in a future version of pandas. Pass `(name,)` instead of `name` to silence this warning.\n",
            "  data_subset = grouped_data.get_group(pd_key)\n",
            "c:\\Users\\elain\\anaconda3\\Lib\\site-packages\\seaborn\\_oldcore.py:1075: FutureWarning: When grouping with a length-1 list-like, you will need to pass a length-1 tuple to get_group in a future version of pandas. Pass `(name,)` instead of `name` to silence this warning.\n",
            "  data_subset = grouped_data.get_group(pd_key)\n"
          ]
        },
        {
          "data": {
            "image/png": "[encoded data removed]",
            "text/plain": [
              "<Figure size 640x480 with 1 Axes>"
            ]
          },
          "metadata": {},
          "output_type": "display_data"
        }
      ],
      "source": [
        "sns.lineplot(data=homicide_counts, x='Year', y='HomicideCount', hue='Region')\n",
        "plt.title('Homicide Trends by Region Over Time')\n",
        "plt.show()"
      ]
    },
    {
      "cell_type": "markdown",
      "metadata": {
        "id": "o_a1uLsCP8LU"
      },
      "source": [
        "So in our analysis above, we calculate the R-squared values of our linear regression models, which measures how much of the variation in homicide counts across time can be predicted or explained with our model. We got an output / R-squared value of 0.7998 while analyzing our entire dataset (all four regions combined), which means about 80% of the variations in homicide counts can be accounted for based on which region the data point is from (via dummy variables) and the year.\n",
        "\n",
        "In general, the closer R-squared is to 1, the better the model fits, and in our case here R-squared is pretty high, which tells us that region and time together is decently helpful in predicting homicide counts, but it doesn’t tell us which part is doing the heavy lifting (region vs. year). However, we believe that most of the power probably comes from region, since some areas just have more homicides than others.\n",
        "\n",
        "So then we looked at each region on its own to see how well the year predicts homocide count for each region by fitting homicide count versus year. From our output results that showed slope, intercept and R-squared for each region, only the Northeast had a decent R² ( about 0.58) with a negative slope of about −35 per year, which tells us that the number of homocides in the Northeast have dropped quite steadily through time. However, in the other three regions, the R-squared values are basically zero (and for the South it was even slightly negative), which tells us that for those regions, there are no clear linear trends for homocide count versus year.\n",
        "\n",
        "Overall, what this means is that only in the Northeast do homicides show a clear downward trend through time. In all the other regions, year on its own doesn’t do a good job of predicting how many homicides happen, and we would need more factors (e.g. city-level breakdowns, demographics, socioeconomic policies etc.) to explain the variance in the homocide counts.\n",
        "\n",
        "Lastly, the above shows us that yes, most of the predictive accuracy for homocide counts (based on year and region) comes from region."
      ]
    },
    {
      "cell_type": "markdown",
      "metadata": {},
      "source": [
        "## Random Forest Regression"
      ]
    },
    {
      "cell_type": "code",
      "execution_count": null,
      "metadata": {},
      "outputs": [
        {
          "name": "stdout",
          "output_type": "stream",
          "text": [
            "Test Accuracy: 0.7297795761423589\n",
            "Classification report:               precision    recall  f1-score   support\n",
            "\n",
            "           0       0.60      0.24      0.35     52565\n",
            "           1       0.75      0.93      0.83    126363\n",
            "\n",
            "    accuracy                           0.73    178928\n",
            "   macro avg       0.67      0.59      0.59    178928\n",
            "weighted avg       0.70      0.73      0.69    178928\n",
            "\n",
            "Confusion matrix: [[ 12872  39693]\n",
            " [  8657 117706]]\n",
            "Feature importances: [0.1552, 0.0382, 0.3447, 0.0463, 0.004, 0.2839, 0.1278]\n"
          ]
        }
      ],
      "source": [
        "from sklearn.ensemble import RandomForestClassifier\n",
        "from sklearn.model_selection import train_test_split\n",
        "from sklearn.preprocessing import LabelEncoder\n",
        "from sklearn.metrics import classification_report, confusion_matrix\n",
        "from sklearn.model_selection import GridSearchCV\n",
        "from sklearn.metrics import accuracy_score\n",
        "\n",
        "categorical_cols = ['State', 'Region', 'Agency', 'Agentype', 'Source', 'Month']\n",
        "label_encoders = {} #encode categorical var\n",
        "for col in categorical_cols:\n",
        "    le = LabelEncoder()\n",
        "    df[col] = le.fit_transform(df[col])\n",
        "    label_encoders[col] = le\n",
        "\n",
        "X = df[['State', 'Region', 'Agency', 'Agentype', 'Source', 'Year', 'Month']]\n",
        "Y = df['Solved']\n",
        "\n",
        "if Y.dtype == 'object' or Y.nunique() > 2: #encode solved column\n",
        "    Y = LabelEncoder().fit_transform(Y)\n",
        "\n",
        "X_train, X_test, Y_train, Y_test = train_test_split(X, Y, test_size=0.2, random_state=0) # split data\n",
        "cfr = RandomForestClassifier(n_estimators=50, max_depth = 20, min_samples_leaf=2, min_samples_split=2, random_state=0)\n",
        "cfr.fit(X_train, Y_train)\n",
        "Y_pred = cfr.predict(X_test)\n",
        "\n",
        "# # Grid search for hyperparameter tuning - commented out to reduce runtime \n",
        "# param_grid = {\n",
        "#     'n_estimators': [50],        # num trees\n",
        "#     'max_depth': [10, 20],         # max depth\n",
        "#     'min_samples_split': [2, 5],         # min samples to split\n",
        "#     'min_samples_leaf': [1, 2]           # min samples for leaf\n",
        "# }\n",
        "# grid_search = GridSearchCV(\n",
        "#     estimator=cfr,\n",
        "#     param_grid=param_grid,\n",
        "#     cv=5,             \n",
        "#     n_jobs=-1,        \n",
        "#     verbose=2,\n",
        "#     scoring='accuracy'\n",
        "# )\n",
        "# grid_search.fit(X_train, Y_train)\n",
        "# print(\"Best parameters found: \", grid_search.best_params_)\n",
        "# print(\"Best cross-validation score: {:.2f}\".format(grid_search.best_score_))\n",
        "# best_cfr = grid_search.best_estimator_\n",
        "# Y_pred = best_cfr.predict(X_test)\n",
        "# print(\"Test Accuracy:\", accuracy_score(Y_test, Y_pred))\n",
        "\n",
        "print(\"Test Accuracy:\", accuracy_score(Y_test, Y_pred))\n",
        "print(f'Classification report: {classification_report(Y_test, Y_pred)}')\n",
        "print(f'Confusion matrix: {confusion_matrix(Y_test, Y_pred)}')\n",
        "feature_importances = cfr.feature_importances_\n",
        "feature_importances = [round(importance, 4) for importance in feature_importances]\n",
        "print(f'Feature importances: {feature_importances}')"
      ]
    },
    {
      "cell_type": "markdown",
      "metadata": {},
      "source": [
        "We were also curious to see if you could use location, agency, and time to predict whether a case was solved or not. A random forest regression model was trained using the State, Region, Agency, Agentype, Source, Year, and Month columns as predictors and the Solved column as the response. \n",
        "\n",
        "To tune the hyperparameters, we used grid search with 5-fold cross-validation. We found that the best hyperparameters used 50 estimators in the ensemble, a max depth of 20, and min samples of 2. Looking at the overall accuracy, it correctly predicted 73% of all cases. The confusion matrix shows us that ~13,000 cases were correctly predicted as unsolved, almost 40,000 cases were incorrectly predicted as solved when they were unsolved, almost 9,000 cases were incorrectly predicted as unsolved when they were solved, and almost 120,000 cases were correctly predicted as solved. This tells us that out of all the cases, a minority were incorrectly predicted, though the model is worse at predicting unsolved cases as solved cases. \n",
        "\n",
        "In the linear regression model, we werent able to determine whether region or time was more important in predicting homicide counts. Looking at the feature importances in the random forest regression model, we can see that Agency and Year are the most important features, while Region and Source are less important in determining whether a case was solved or not. \n",
        "\n",
        "Overall, location, agency, and time are moderately useful in predicting whether a case was solved or not. To improve the model, we could add more columns such as case details like weapon used, victim information, offender information, etc, though that might also introduce multicollinearity and more noise into the predictions. "
      ]
    }
  ],
  "metadata": {
    "colab": {
      "provenance": []
    },
    "kernelspec": {
      "display_name": "Python 3",
      "name": "python3"
    },
    "language_info": {
      "codemirror_mode": {
        "name": "ipython",
        "version": 3
      },
      "file_extension": ".py",
      "mimetype": "text/x-python",
      "name": "python",
      "nbconvert_exporter": "python",
      "pygments_lexer": "ipython3",
      "version": "3.11.4"
    }
  },
  "nbformat": 4,
  "nbformat_minor": 0
}
