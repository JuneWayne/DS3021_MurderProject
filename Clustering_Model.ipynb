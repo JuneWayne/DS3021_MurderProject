{
  "nbformat": 4,
  "nbformat_minor": 0,
  "metadata": {
    "colab": {
      "private_outputs": true,
      "provenance": []
    },
    "kernelspec": {
      "name": "python3",
      "display_name": "Python 3"
    },
    "language_info": {
      "name": "python"
    }
  },
  "cells": [
    {
      "cell_type": "code",
      "execution_count": null,
      "metadata": {
        "id": "Tc1C8EJuvaCt"
      },
      "outputs": [],
      "source": [
        "import pandas as pd\n",
        "import numpy as np\n",
        "import matplotlib.pyplot as plt\n",
        "import seaborn as sns"
      ]
    },
    {
      "cell_type": "code",
      "source": [
        "df= pd.read_csv('SHR65_23.csv')\n",
        "df.head()"
      ],
      "metadata": {
        "id": "MueQb-siw-KO"
      },
      "execution_count": null,
      "outputs": []
    },
    {
      "cell_type": "code",
      "source": [
        "df['State'].value_counts()"
      ],
      "metadata": {
        "id": "dEqRIdU8_Jr-"
      },
      "execution_count": null,
      "outputs": []
    },
    {
      "cell_type": "code",
      "source": [
        "print(df.info())\n",
        "print(df.describe())\n",
        "print(df.shape)"
      ],
      "metadata": {
        "id": "xYksubG-15-_"
      },
      "execution_count": null,
      "outputs": []
    },
    {
      "cell_type": "code",
      "source": [
        "df.isnull().sum()"
      ],
      "metadata": {
        "id": "GAH3ZsXk1_Bo"
      },
      "execution_count": null,
      "outputs": []
    },
    {
      "cell_type": "code",
      "source": [
        "df_new= df.drop(['Subcircum', 'FileDate'], axis='columns')\n",
        "df_new.isnull().sum()"
      ],
      "metadata": {
        "id": "QHB3mLbkwNKu"
      },
      "execution_count": null,
      "outputs": []
    },
    {
      "cell_type": "code",
      "source": [
        "df_new.dropna(inplace=True)\n",
        "df_new.isnull().sum()"
      ],
      "metadata": {
        "id": "PagsBZymwuCK"
      },
      "execution_count": null,
      "outputs": []
    },
    {
      "cell_type": "code",
      "source": [
        "df_new.shape"
      ],
      "metadata": {
        "id": "TqoU8vRiwxQq"
      },
      "execution_count": null,
      "outputs": []
    },
    {
      "cell_type": "code",
      "source": [
        "df.columns"
      ],
      "metadata": {
        "id": "9biyI9Q1yvkh"
      },
      "execution_count": null,
      "outputs": []
    },
    {
      "cell_type": "code",
      "source": [
        "df_new['VicCount'].value_counts()"
      ],
      "metadata": {
        "id": "Jcc6JaVfluKT"
      },
      "execution_count": null,
      "outputs": []
    },
    {
      "cell_type": "code",
      "source": [
        "df_new['Homicide'].value_counts()"
      ],
      "metadata": {
        "id": "MGe1MvPl1uxG"
      },
      "execution_count": null,
      "outputs": []
    },
    {
      "cell_type": "code",
      "source": [
        "df_new.info()"
      ],
      "metadata": {
        "id": "xMm4_1PB2AbY"
      },
      "execution_count": null,
      "outputs": []
    },
    {
      "cell_type": "code",
      "source": [
        "df['MSA'].value_counts()"
      ],
      "metadata": {
        "id": "tMnpDv2h7sA1"
      },
      "execution_count": null,
      "outputs": []
    },
    {
      "cell_type": "code",
      "source": [
        "df['Weapon'].value_counts()"
      ],
      "metadata": {
        "id": "mLMrgSeXw2F6"
      },
      "execution_count": null,
      "outputs": []
    },
    {
      "cell_type": "code",
      "source": [
        "sns.countplot(df_new['Weapon'])"
      ],
      "metadata": {
        "id": "DzGdwrfRxeFS"
      },
      "execution_count": null,
      "outputs": []
    },
    {
      "cell_type": "code",
      "source": [
        "df['Situation'].value_counts()"
      ],
      "metadata": {
        "id": "6YvHxRJd0Obu"
      },
      "execution_count": null,
      "outputs": []
    },
    {
      "cell_type": "code",
      "source": [
        "df['VicCount'].value_counts()"
      ],
      "metadata": {
        "id": "PD9P2uBz1S0L"
      },
      "execution_count": null,
      "outputs": []
    },
    {
      "cell_type": "code",
      "source": [
        "df_new['VicSex'].value_counts()"
      ],
      "metadata": {
        "id": "s0JXIg877ip7"
      },
      "execution_count": null,
      "outputs": []
    },
    {
      "cell_type": "code",
      "source": [
        "# 1. Start with original df (with selected features)\n",
        "cols = ['State', 'Circumstance', 'Homicide', 'Weapon', 'Relationship', 'Situation', 'Solved']\n",
        "df_state = df_new[cols].copy()\n",
        "\n",
        "# 2. One-hot encode categorical features- this is important because PCA and KMEANS doesn't work with categorical variables\n",
        "df_encoded = pd.get_dummies(df_state.drop(columns='State'), drop_first=True)\n",
        "\n",
        "# 3. Group by state and compute means (proportion of each feature per state)\n",
        "df_grouped = pd.concat([df_state['State'], df_encoded], axis=1).groupby('State').mean()\n",
        "\n",
        "# 4. Scale the aggregated state-level data\n",
        "from sklearn.preprocessing import StandardScaler\n",
        "X_scaled = StandardScaler().fit_transform(df_grouped)\n",
        "\n",
        "# 5. Apply KMeans to the states\n",
        "from sklearn.cluster import KMeans\n",
        "kmeans = KMeans(n_clusters=4, random_state=42)\n",
        "df_grouped['Cluster'] = kmeans.fit_predict(X_scaled)\n",
        "\n",
        "# 6. See which cluster each state falls into\n",
        "print(df_grouped['Cluster'].sort_values())\n",
        "\n",
        "from sklearn.decomposition import PCA\n",
        "import matplotlib.pyplot as plt\n",
        "import seaborn as sns\n",
        "import pandas as pd\n",
        "\n",
        "# --- 1. PCA for Visualization ---\n",
        "pca = PCA(n_components=2)\n",
        "X_pca = pca.fit_transform(X_scaled)\n",
        "\n",
        "plt.figure(figsize=(12, 8))\n",
        "sns.scatterplot(x=X_pca[:, 0], y=X_pca[:, 1], hue=df_grouped['Cluster'], palette='tab10', s=100)\n",
        "\n",
        "# Label each state on the plot\n",
        "for i, state in enumerate(df_grouped.index):\n",
        "    plt.text(X_pca[i, 0] + 0.1, X_pca[i, 1], state, fontsize=8)\n",
        "\n",
        "plt.title('PCA Projection of State Clusters')\n",
        "plt.xlabel('Principal Component 1')\n",
        "plt.ylabel('Principal Component 2')\n",
        "plt.grid(True)\n",
        "plt.legend(title='Cluster', loc='best')\n",
        "plt.tight_layout()\n",
        "plt.show()\n",
        "\n",
        "\n",
        "# --- 1. WORKING WITH CLUSTER SUMMARIES\n",
        "\n",
        "# --- 2. Cluster Counts ---\n",
        "print(\"\\n--- Cluster Counts (Number of States per Cluster) ---\")\n",
        "print(df_grouped['Cluster'].value_counts())\n",
        "\n",
        "# --- 3. Cluster Centers (in scaled feature space) ---\n",
        "cluster_centers = pd.DataFrame(kmeans.cluster_centers_, columns=df_grouped.columns[:-1])\n",
        "print(\"\\n--- Cluster Centers (Scaled Feature Space) ---\")\n",
        "print(cluster_centers)\n",
        "\n",
        "# --- 4. Cluster Feature Summary (Means in original units) ---\n",
        "#  one-hot encoded data, aggregated by state\n",
        "df_encoded_with_state = pd.concat([df_state['State'], df_encoded], axis=1)\n",
        "df_grouped_unscaled = df_encoded_with_state.groupby('State').mean()\n",
        "\n",
        "# Adding  the cluster assignments back\n",
        "df_grouped_unscaled['Cluster'] = df_grouped['Cluster']\n",
        "\n",
        "# Now computing the mean of each feature per cluster\n",
        "cluster_summary = df_grouped_unscaled.groupby('Cluster').mean()\n",
        "\n",
        "print(\"\\n--- Feature Means per Cluster (Proportions) ---\")\n",
        "print(cluster_summary)\n"
      ],
      "metadata": {
        "id": "I68_FkuwV3_f"
      },
      "execution_count": null,
      "outputs": []
    },
    {
      "cell_type": "markdown",
      "source": [
        "Based on the PCA projections chart, there's a lot to dissect. To start, we see that the majority of states fall under cluster 1 of (30 states), then cluster 3 ( 16), then cluster 0 (4), and cluster 2 with only 1 stated. From this, we understand that cluster 2 may highlight an unusual pattern ( outlier)- the state was Arizona. The x-axis/ y-axis  values appear to be z scores ( they tell you how much above or below the mean a feature is for each cluster)- That being said, 0 means the feature is at the average, positive value means higher than average, and negative values mean lower than average. Now let's look at each cluster to note any patterns.\n",
        "\n",
        "1. Cluster 0: 4 states (Idaho, Maine, Motana, West Virginia)\n",
        "\n",
        "a. Key Patters: It has the highest proprtion of solved homicides (Solved_Yes ~ 90%), It has a single-victim/single-offender cases (66%), Low urban crime types like “multiple unknown offenders,” “stranger relationships,” and felonies, High rates of domestic relationships (wife, husband, family ties)- common in rural, low-population states.\n",
        "\n",
        "Insights: These are mostly rural states that have solvable, domestic relate homicides- low complexity of crimes.\n",
        "\n",
        "2. Cluster 1: (30 states)\n",
        "\n",
        "a. Key Patterns: It has the lowest solved rate of 71%, it has a high rates of unkown offender case, homicides involving strangers, more complex urban homicides, high population states.\n",
        "\n",
        "Insights: These (high population) states represent diverse, urban-driven homicide patterns where crimes are harder to solve.\n",
        "\n",
        "3. Cluster 2: (1 states- Arizona)\n",
        "\n",
        "a. Key Patterns: It has the high z scores in felony-related homicides, arguments over money, and stranager related homicides, it has low solved rates, and high multiple victim case and unknown offenders\n",
        "\n",
        "Insights: Arizona shows an extreme outlier pattern, especially in felony circumstances and argument-based killings. What could've caused this?\n",
        "\n",
        "4. Cluster 3: (16 states)\n",
        "\n",
        "a. Key Patterns: It has an above average solved rates ( 85%), and  High family or known-offender rates (wife, boyfriend, etc.). There was also an interesting elevation of child-realted homicide indicators ( babysitter, family)- more generalized motives(mixture)\n",
        "\n",
        "Insights: These states form a moderate cluster—not They may reflect balanced investigative systems and a mix of urban/rural crime.\n",
        "\n",
        "Conclusions\n",
        "\n",
        "Based on the above analysis, it looks like low population, and higher social ties ( connection) leads to a more solvable domestic crimes. While a Densely populated state has more unknow violence which leads to unsolved crimes, stranger homicides, and felony situations. Medium population has a balanced miz of domestic and unkonws.\n",
        "\n",
        "Group commentary: Just by looking at the Kepler.gl map and PCA visualization, it's clear that there's a pattern of clustering ( we can see the seperation). Relating back to our area of intrest and purpose. Based on the cluster summary, we can make the connection that higher population ( states near high populated areas tend to have more diverse cases, but high in anonymity ( stranger homicides and unknown offenders). While States near low populated states (have higher social ties and leading to more solvable domestic crimes). We'd like to convey to police officiers/ state defenders are: Outlier state, deploy specialized task forces for gang violence, trafficking, or serial offense. Also defintly puch for more porensic transparency- we already saw that higher unsolved rates mean that the evidence may be week and forensic efforts may need more of investing. For cluster 3, in particular, since there are elevated rates of arson, children killed by babysitters, and stepfamily-related cases- we could advise to police officers to coordinate with cps and fire departments during invesitgations, and definetly have more training to recognize nuanced abuse in families. Also, request pscyhological assessments for defendants in domestic or child-involved homicides, especially where abuse cycles may be present. Additionally , for high solve rates ( domestic focused)- Leverage prior restraining orders or 911 call patterns to preempt escalation."
      ],
      "metadata": {
        "id": "6prH4zkuBjDp"
      }
    },
    {
      "cell_type": "code",
      "source": [
        "import plotly.express as px\n",
        "import pandas as pd\n",
        "\n",
        "# Data: states and their corresponding cluster numbers\n",
        "data = {\n",
        "    'State': [\n",
        "        'Idaho', 'Maine', 'Montana', 'West Virginia', 'Delaware', 'Georgia', 'Connecticut', 'Alabama',\n",
        "        'Indiana', 'Illinois', 'Florida', 'Maryland', 'Kansas', 'Kentucky', 'District of Columbia',\n",
        "        'Arkansas', 'New Mexico', 'Mississippi', 'Missouri', 'Nevada', 'New Jersey', 'Massachusetts',\n",
        "        'Michigan', 'Louisiana', 'Rhode Island', 'Tennessee', 'Texas', 'Pennsylvania', 'North Carolina',\n",
        "        'Ohio', 'New York', 'California', 'Virginia', 'South Carolina', 'Arizona', 'Minnesota',\n",
        "        'Colorado', 'Alaska', 'Hawaii', 'Iowa', 'New Hampshire', 'Nebraska', 'North Dakota', 'Oklahoma',\n",
        "        'South Dakota', 'Utah', 'Vermont', 'Oregon', 'Washington', 'Wisconsin', 'Wyoming'\n",
        "    ],\n",
        "    'Cluster': [\n",
        "        0, 0, 0, 0, 1, 1, 1, 1, 1, 1, 1, 1, 1, 1, 1, 1, 1, 1, 1, 1, 1, 1, 1, 1, 1, 1, 1,\n",
        "        1, 1, 1, 1, 1, 1, 1, 2, 3, 3, 3, 3, 3, 3, 3, 3, 3, 3, 3, 3, 3, 3, 3, 3\n",
        "    ]\n",
        "}\n",
        "\n",
        "# Creating DataFrame\n",
        "df = pd.DataFrame(data)\n",
        "\n",
        "# Ensure that the 'Cluster' column is treated as categorical data\n",
        "df['Cluster'] = df['Cluster'].astype(str)\n",
        "\n",
        "\n",
        "#lat/lon centroids for each state\n",
        "state_coords = {\n",
        "    'Alabama': (32.806671, -86.791130),\n",
        "    'Alaska': (61.370716, -152.404419),\n",
        "    'Arizona': (33.729759, -111.431221),\n",
        "    'Arkansas': (34.969704, -92.373123),\n",
        "    'California': (36.116203, -119.681564),\n",
        "    'Colorado': (39.059811, -105.311104),\n",
        "    'Connecticut': (41.597782, -72.755371),\n",
        "    'Delaware': (39.318523, -75.507141),\n",
        "    'District of Columbia': (38.897438, -77.026817),\n",
        "    'Florida': (27.766279, -81.686783),\n",
        "    'Georgia': (33.040619, -83.643074),\n",
        "    'Hawaii': (21.094318, -157.498337),\n",
        "    'Idaho': (44.240459, -114.478828),\n",
        "    'Illinois': (40.349457, -88.986137),\n",
        "    'Indiana': (39.849426, -86.258278),\n",
        "    'Iowa': (42.011539, -93.210526),\n",
        "    'Kansas': (38.526600, -96.726486),\n",
        "    'Kentucky': (37.668140, -84.670067),\n",
        "    'Louisiana': (31.169546, -91.867805),\n",
        "    'Maine': (44.693947, -69.381927),\n",
        "    'Maryland': (39.063946, -76.802101),\n",
        "    'Massachusetts': (42.230171, -71.530106),\n",
        "    'Michigan': (43.326618, -84.536095),\n",
        "    'Minnesota': (45.694454, -93.900192),\n",
        "    'Mississippi': (32.741646, -89.678696),\n",
        "    'Missouri': (38.456085, -92.288368),\n",
        "    'Montana': (46.921925, -110.454353),\n",
        "    'Nebraska': (41.125370, -98.268082),\n",
        "    'Nevada': (38.313515, -117.055374),\n",
        "    'New Hampshire': (43.452492, -71.563896),\n",
        "    'New Jersey': (40.298904, -74.521011),\n",
        "    'New Mexico': (34.840515, -106.248482),\n",
        "    'New York': (42.165726, -74.948051),\n",
        "    'North Carolina': (35.630066, -79.806419),\n",
        "    'North Dakota': (47.528912, -99.784012),\n",
        "    'Ohio': (40.388783, -82.764915),\n",
        "    'Oklahoma': (35.565342, -96.928917),\n",
        "    'Oregon': (44.572021, -122.070938),\n",
        "    'Pennsylvania': (40.590752, -77.209755),\n",
        "    'Rhode Island': (41.680893, -71.511780),\n",
        "    'South Carolina': (33.856892, -80.945007),\n",
        "    'South Dakota': (44.299782, -99.438828),\n",
        "    'Tennessee': (35.747845, -86.692345),\n",
        "    'Texas': (31.054487, -97.563461),\n",
        "    'Utah': (40.150032, -111.862434),\n",
        "    'Vermont': (44.045876, -72.710686),\n",
        "    'Virginia': (37.769337, -78.169968),\n",
        "    'Washington': (47.400902, -121.490494),\n",
        "    'West Virginia': (38.491226, -80.954570),\n",
        "    'Wisconsin': (44.268543, -89.616508),\n",
        "    'Wyoming': (42.755966, -107.302490)\n",
        "}\n",
        "\n",
        "# Add lat/lon to your dataframe\n",
        "df[\"Latitude\"] = df[\"State\"].map(lambda x: state_coords[x][0])\n",
        "df[\"Longitude\"] = df[\"State\"].map(lambda x: state_coords[x][1])\n",
        "\n",
        "# Save to CSV for Kepler\n",
        "df.to_csv(\"state_clusters_for_kepler.csv\", index=False)"
      ],
      "metadata": {
        "id": "gI85wMFOpU9X"
      },
      "execution_count": null,
      "outputs": []
    }
  ]
}